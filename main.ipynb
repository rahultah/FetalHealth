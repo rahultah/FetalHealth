{
 "metadata": {
  "language_info": {
   "codemirror_mode": {
    "name": "ipython",
    "version": 3
   },
   "file_extension": ".py",
   "mimetype": "text/x-python",
   "name": "python",
   "nbconvert_exporter": "python",
   "pygments_lexer": "ipython3",
   "version": "3.8.5"
  },
  "orig_nbformat": 2,
  "kernelspec": {
   "name": "python385jvsc74a57bd09ad83298e4be0c7364ac5f7ad2d01c3efcf3da592c7971d66042ce01fc404a34",
   "display_name": "Python 3.8.5 64-bit ('base': conda)"
  }
 },
 "nbformat": 4,
 "nbformat_minor": 2,
 "cells": [
  {
   "cell_type": "code",
   "execution_count": 2,
   "metadata": {},
   "outputs": [],
   "source": [
    "import numpy as np\n",
    "import pandas as pd\n",
    "import matplotlib.pyplot as plt\n",
    "import seaborn as sns\n",
    "from sklearn.model_selection import train_test_split\n",
    "from sklearn import preprocessing\n",
    "from sklearn.preprocessing import StandardScaler\n",
    "from sklearn.pipeline import Pipeline\n",
    "from sklearn.linear_model import LogisticRegression\n",
    "from sklearn.tree import DecisionTreeClassifier\n",
    "from sklearn.ensemble import RandomForestClassifier\n",
    "from sklearn.svm import SVC\n",
    "from sklearn.svm import LinearSVC\n",
    "from sklearn.model_selection import GridSearchCV\n",
    "from sklearn.model_selection import cross_val_score\n",
    "from sklearn.metrics import precision_score, recall_score, confusion_matrix, classification_report, accuracy_score, f1_score\n",
    "from sklearn import metrics\n",
    "from sklearn.metrics import roc_curve, auc, roc_auc_score\n",
    "np.random.seed(0)"
   ]
  },
  {
   "cell_type": "code",
   "execution_count": 3,
   "metadata": {},
   "outputs": [],
   "source": [
    "data = pd.read_csv('fetal_health.csv')"
   ]
  },
  {
   "cell_type": "code",
   "execution_count": 4,
   "metadata": {},
   "outputs": [
    {
     "output_type": "execute_result",
     "data": {
      "text/plain": [
       "   baseline value  accelerations  fetal_movement  uterine_contractions  \\\n",
       "0           120.0          0.000             0.0                 0.000   \n",
       "1           132.0          0.006             0.0                 0.006   \n",
       "2           133.0          0.003             0.0                 0.008   \n",
       "3           134.0          0.003             0.0                 0.008   \n",
       "4           132.0          0.007             0.0                 0.008   \n",
       "\n",
       "   light_decelerations  severe_decelerations  prolongued_decelerations  \\\n",
       "0                0.000                   0.0                       0.0   \n",
       "1                0.003                   0.0                       0.0   \n",
       "2                0.003                   0.0                       0.0   \n",
       "3                0.003                   0.0                       0.0   \n",
       "4                0.000                   0.0                       0.0   \n",
       "\n",
       "   abnormal_short_term_variability  mean_value_of_short_term_variability  \\\n",
       "0                             73.0                                   0.5   \n",
       "1                             17.0                                   2.1   \n",
       "2                             16.0                                   2.1   \n",
       "3                             16.0                                   2.4   \n",
       "4                             16.0                                   2.4   \n",
       "\n",
       "   percentage_of_time_with_abnormal_long_term_variability  ...  histogram_min  \\\n",
       "0                                               43.0       ...           62.0   \n",
       "1                                                0.0       ...           68.0   \n",
       "2                                                0.0       ...           68.0   \n",
       "3                                                0.0       ...           53.0   \n",
       "4                                                0.0       ...           53.0   \n",
       "\n",
       "   histogram_max  histogram_number_of_peaks  histogram_number_of_zeroes  \\\n",
       "0          126.0                        2.0                         0.0   \n",
       "1          198.0                        6.0                         1.0   \n",
       "2          198.0                        5.0                         1.0   \n",
       "3          170.0                       11.0                         0.0   \n",
       "4          170.0                        9.0                         0.0   \n",
       "\n",
       "   histogram_mode  histogram_mean  histogram_median  histogram_variance  \\\n",
       "0           120.0           137.0             121.0                73.0   \n",
       "1           141.0           136.0             140.0                12.0   \n",
       "2           141.0           135.0             138.0                13.0   \n",
       "3           137.0           134.0             137.0                13.0   \n",
       "4           137.0           136.0             138.0                11.0   \n",
       "\n",
       "   histogram_tendency  fetal_health  \n",
       "0                 1.0           2.0  \n",
       "1                 0.0           1.0  \n",
       "2                 0.0           1.0  \n",
       "3                 1.0           1.0  \n",
       "4                 1.0           1.0  \n",
       "\n",
       "[5 rows x 22 columns]"
      ],
      "text/html": "<div>\n<style scoped>\n    .dataframe tbody tr th:only-of-type {\n        vertical-align: middle;\n    }\n\n    .dataframe tbody tr th {\n        vertical-align: top;\n    }\n\n    .dataframe thead th {\n        text-align: right;\n    }\n</style>\n<table border=\"1\" class=\"dataframe\">\n  <thead>\n    <tr style=\"text-align: right;\">\n      <th></th>\n      <th>baseline value</th>\n      <th>accelerations</th>\n      <th>fetal_movement</th>\n      <th>uterine_contractions</th>\n      <th>light_decelerations</th>\n      <th>severe_decelerations</th>\n      <th>prolongued_decelerations</th>\n      <th>abnormal_short_term_variability</th>\n      <th>mean_value_of_short_term_variability</th>\n      <th>percentage_of_time_with_abnormal_long_term_variability</th>\n      <th>...</th>\n      <th>histogram_min</th>\n      <th>histogram_max</th>\n      <th>histogram_number_of_peaks</th>\n      <th>histogram_number_of_zeroes</th>\n      <th>histogram_mode</th>\n      <th>histogram_mean</th>\n      <th>histogram_median</th>\n      <th>histogram_variance</th>\n      <th>histogram_tendency</th>\n      <th>fetal_health</th>\n    </tr>\n  </thead>\n  <tbody>\n    <tr>\n      <th>0</th>\n      <td>120.0</td>\n      <td>0.000</td>\n      <td>0.0</td>\n      <td>0.000</td>\n      <td>0.000</td>\n      <td>0.0</td>\n      <td>0.0</td>\n      <td>73.0</td>\n      <td>0.5</td>\n      <td>43.0</td>\n      <td>...</td>\n      <td>62.0</td>\n      <td>126.0</td>\n      <td>2.0</td>\n      <td>0.0</td>\n      <td>120.0</td>\n      <td>137.0</td>\n      <td>121.0</td>\n      <td>73.0</td>\n      <td>1.0</td>\n      <td>2.0</td>\n    </tr>\n    <tr>\n      <th>1</th>\n      <td>132.0</td>\n      <td>0.006</td>\n      <td>0.0</td>\n      <td>0.006</td>\n      <td>0.003</td>\n      <td>0.0</td>\n      <td>0.0</td>\n      <td>17.0</td>\n      <td>2.1</td>\n      <td>0.0</td>\n      <td>...</td>\n      <td>68.0</td>\n      <td>198.0</td>\n      <td>6.0</td>\n      <td>1.0</td>\n      <td>141.0</td>\n      <td>136.0</td>\n      <td>140.0</td>\n      <td>12.0</td>\n      <td>0.0</td>\n      <td>1.0</td>\n    </tr>\n    <tr>\n      <th>2</th>\n      <td>133.0</td>\n      <td>0.003</td>\n      <td>0.0</td>\n      <td>0.008</td>\n      <td>0.003</td>\n      <td>0.0</td>\n      <td>0.0</td>\n      <td>16.0</td>\n      <td>2.1</td>\n      <td>0.0</td>\n      <td>...</td>\n      <td>68.0</td>\n      <td>198.0</td>\n      <td>5.0</td>\n      <td>1.0</td>\n      <td>141.0</td>\n      <td>135.0</td>\n      <td>138.0</td>\n      <td>13.0</td>\n      <td>0.0</td>\n      <td>1.0</td>\n    </tr>\n    <tr>\n      <th>3</th>\n      <td>134.0</td>\n      <td>0.003</td>\n      <td>0.0</td>\n      <td>0.008</td>\n      <td>0.003</td>\n      <td>0.0</td>\n      <td>0.0</td>\n      <td>16.0</td>\n      <td>2.4</td>\n      <td>0.0</td>\n      <td>...</td>\n      <td>53.0</td>\n      <td>170.0</td>\n      <td>11.0</td>\n      <td>0.0</td>\n      <td>137.0</td>\n      <td>134.0</td>\n      <td>137.0</td>\n      <td>13.0</td>\n      <td>1.0</td>\n      <td>1.0</td>\n    </tr>\n    <tr>\n      <th>4</th>\n      <td>132.0</td>\n      <td>0.007</td>\n      <td>0.0</td>\n      <td>0.008</td>\n      <td>0.000</td>\n      <td>0.0</td>\n      <td>0.0</td>\n      <td>16.0</td>\n      <td>2.4</td>\n      <td>0.0</td>\n      <td>...</td>\n      <td>53.0</td>\n      <td>170.0</td>\n      <td>9.0</td>\n      <td>0.0</td>\n      <td>137.0</td>\n      <td>136.0</td>\n      <td>138.0</td>\n      <td>11.0</td>\n      <td>1.0</td>\n      <td>1.0</td>\n    </tr>\n  </tbody>\n</table>\n<p>5 rows × 22 columns</p>\n</div>"
     },
     "metadata": {},
     "execution_count": 4
    }
   ],
   "source": [
    "data.head()\n"
   ]
  },
  {
   "cell_type": "code",
   "execution_count": 5,
   "metadata": {},
   "outputs": [
    {
     "output_type": "stream",
     "name": "stdout",
     "text": [
      "<class 'pandas.core.frame.DataFrame'>\nRangeIndex: 2126 entries, 0 to 2125\nData columns (total 22 columns):\n #   Column                                                  Non-Null Count  Dtype  \n---  ------                                                  --------------  -----  \n 0   baseline value                                          2126 non-null   float64\n 1   accelerations                                           2126 non-null   float64\n 2   fetal_movement                                          2126 non-null   float64\n 3   uterine_contractions                                    2126 non-null   float64\n 4   light_decelerations                                     2126 non-null   float64\n 5   severe_decelerations                                    2126 non-null   float64\n 6   prolongued_decelerations                                2126 non-null   float64\n 7   abnormal_short_term_variability                         2126 non-null   float64\n 8   mean_value_of_short_term_variability                    2126 non-null   float64\n 9   percentage_of_time_with_abnormal_long_term_variability  2126 non-null   float64\n 10  mean_value_of_long_term_variability                     2126 non-null   float64\n 11  histogram_width                                         2126 non-null   float64\n 12  histogram_min                                           2126 non-null   float64\n 13  histogram_max                                           2126 non-null   float64\n 14  histogram_number_of_peaks                               2126 non-null   float64\n 15  histogram_number_of_zeroes                              2126 non-null   float64\n 16  histogram_mode                                          2126 non-null   float64\n 17  histogram_mean                                          2126 non-null   float64\n 18  histogram_median                                        2126 non-null   float64\n 19  histogram_variance                                      2126 non-null   float64\n 20  histogram_tendency                                      2126 non-null   float64\n 21  fetal_health                                            2126 non-null   float64\ndtypes: float64(22)\nmemory usage: 365.5 KB\n"
     ]
    }
   ],
   "source": [
    "data.info()"
   ]
  },
  {
   "cell_type": "code",
   "execution_count": 6,
   "metadata": {},
   "outputs": [
    {
     "output_type": "execute_result",
     "data": {
      "text/plain": [
       "                                                     count        mean  \\\n",
       "baseline value                                      2126.0  133.303857   \n",
       "accelerations                                       2126.0    0.003178   \n",
       "fetal_movement                                      2126.0    0.009481   \n",
       "uterine_contractions                                2126.0    0.004366   \n",
       "light_decelerations                                 2126.0    0.001889   \n",
       "severe_decelerations                                2126.0    0.000003   \n",
       "prolongued_decelerations                            2126.0    0.000159   \n",
       "abnormal_short_term_variability                     2126.0   46.990122   \n",
       "mean_value_of_short_term_variability                2126.0    1.332785   \n",
       "percentage_of_time_with_abnormal_long_term_vari...  2126.0    9.846660   \n",
       "mean_value_of_long_term_variability                 2126.0    8.187629   \n",
       "histogram_width                                     2126.0   70.445908   \n",
       "histogram_min                                       2126.0   93.579492   \n",
       "histogram_max                                       2126.0  164.025400   \n",
       "histogram_number_of_peaks                           2126.0    4.068203   \n",
       "histogram_number_of_zeroes                          2126.0    0.323612   \n",
       "histogram_mode                                      2126.0  137.452023   \n",
       "histogram_mean                                      2126.0  134.610536   \n",
       "histogram_median                                    2126.0  138.090310   \n",
       "histogram_variance                                  2126.0   18.808090   \n",
       "histogram_tendency                                  2126.0    0.320320   \n",
       "fetal_health                                        2126.0    1.304327   \n",
       "\n",
       "                                                          std    min      25%  \\\n",
       "baseline value                                       9.840844  106.0  126.000   \n",
       "accelerations                                        0.003866    0.0    0.000   \n",
       "fetal_movement                                       0.046666    0.0    0.000   \n",
       "uterine_contractions                                 0.002946    0.0    0.002   \n",
       "light_decelerations                                  0.002960    0.0    0.000   \n",
       "severe_decelerations                                 0.000057    0.0    0.000   \n",
       "prolongued_decelerations                             0.000590    0.0    0.000   \n",
       "abnormal_short_term_variability                     17.192814   12.0   32.000   \n",
       "mean_value_of_short_term_variability                 0.883241    0.2    0.700   \n",
       "percentage_of_time_with_abnormal_long_term_vari...  18.396880    0.0    0.000   \n",
       "mean_value_of_long_term_variability                  5.628247    0.0    4.600   \n",
       "histogram_width                                     38.955693    3.0   37.000   \n",
       "histogram_min                                       29.560212   50.0   67.000   \n",
       "histogram_max                                       17.944183  122.0  152.000   \n",
       "histogram_number_of_peaks                            2.949386    0.0    2.000   \n",
       "histogram_number_of_zeroes                           0.706059    0.0    0.000   \n",
       "histogram_mode                                      16.381289   60.0  129.000   \n",
       "histogram_mean                                      15.593596   73.0  125.000   \n",
       "histogram_median                                    14.466589   77.0  129.000   \n",
       "histogram_variance                                  28.977636    0.0    2.000   \n",
       "histogram_tendency                                   0.610829   -1.0    0.000   \n",
       "fetal_health                                         0.614377    1.0    1.000   \n",
       "\n",
       "                                                        50%      75%      max  \n",
       "baseline value                                      133.000  140.000  160.000  \n",
       "accelerations                                         0.002    0.006    0.019  \n",
       "fetal_movement                                        0.000    0.003    0.481  \n",
       "uterine_contractions                                  0.004    0.007    0.015  \n",
       "light_decelerations                                   0.000    0.003    0.015  \n",
       "severe_decelerations                                  0.000    0.000    0.001  \n",
       "prolongued_decelerations                              0.000    0.000    0.005  \n",
       "abnormal_short_term_variability                      49.000   61.000   87.000  \n",
       "mean_value_of_short_term_variability                  1.200    1.700    7.000  \n",
       "percentage_of_time_with_abnormal_long_term_vari...    0.000   11.000   91.000  \n",
       "mean_value_of_long_term_variability                   7.400   10.800   50.700  \n",
       "histogram_width                                      67.500  100.000  180.000  \n",
       "histogram_min                                        93.000  120.000  159.000  \n",
       "histogram_max                                       162.000  174.000  238.000  \n",
       "histogram_number_of_peaks                             3.000    6.000   18.000  \n",
       "histogram_number_of_zeroes                            0.000    0.000   10.000  \n",
       "histogram_mode                                      139.000  148.000  187.000  \n",
       "histogram_mean                                      136.000  145.000  182.000  \n",
       "histogram_median                                    139.000  148.000  186.000  \n",
       "histogram_variance                                    7.000   24.000  269.000  \n",
       "histogram_tendency                                    0.000    1.000    1.000  \n",
       "fetal_health                                          1.000    1.000    3.000  "
      ],
      "text/html": "<div>\n<style scoped>\n    .dataframe tbody tr th:only-of-type {\n        vertical-align: middle;\n    }\n\n    .dataframe tbody tr th {\n        vertical-align: top;\n    }\n\n    .dataframe thead th {\n        text-align: right;\n    }\n</style>\n<table border=\"1\" class=\"dataframe\">\n  <thead>\n    <tr style=\"text-align: right;\">\n      <th></th>\n      <th>count</th>\n      <th>mean</th>\n      <th>std</th>\n      <th>min</th>\n      <th>25%</th>\n      <th>50%</th>\n      <th>75%</th>\n      <th>max</th>\n    </tr>\n  </thead>\n  <tbody>\n    <tr>\n      <th>baseline value</th>\n      <td>2126.0</td>\n      <td>133.303857</td>\n      <td>9.840844</td>\n      <td>106.0</td>\n      <td>126.000</td>\n      <td>133.000</td>\n      <td>140.000</td>\n      <td>160.000</td>\n    </tr>\n    <tr>\n      <th>accelerations</th>\n      <td>2126.0</td>\n      <td>0.003178</td>\n      <td>0.003866</td>\n      <td>0.0</td>\n      <td>0.000</td>\n      <td>0.002</td>\n      <td>0.006</td>\n      <td>0.019</td>\n    </tr>\n    <tr>\n      <th>fetal_movement</th>\n      <td>2126.0</td>\n      <td>0.009481</td>\n      <td>0.046666</td>\n      <td>0.0</td>\n      <td>0.000</td>\n      <td>0.000</td>\n      <td>0.003</td>\n      <td>0.481</td>\n    </tr>\n    <tr>\n      <th>uterine_contractions</th>\n      <td>2126.0</td>\n      <td>0.004366</td>\n      <td>0.002946</td>\n      <td>0.0</td>\n      <td>0.002</td>\n      <td>0.004</td>\n      <td>0.007</td>\n      <td>0.015</td>\n    </tr>\n    <tr>\n      <th>light_decelerations</th>\n      <td>2126.0</td>\n      <td>0.001889</td>\n      <td>0.002960</td>\n      <td>0.0</td>\n      <td>0.000</td>\n      <td>0.000</td>\n      <td>0.003</td>\n      <td>0.015</td>\n    </tr>\n    <tr>\n      <th>severe_decelerations</th>\n      <td>2126.0</td>\n      <td>0.000003</td>\n      <td>0.000057</td>\n      <td>0.0</td>\n      <td>0.000</td>\n      <td>0.000</td>\n      <td>0.000</td>\n      <td>0.001</td>\n    </tr>\n    <tr>\n      <th>prolongued_decelerations</th>\n      <td>2126.0</td>\n      <td>0.000159</td>\n      <td>0.000590</td>\n      <td>0.0</td>\n      <td>0.000</td>\n      <td>0.000</td>\n      <td>0.000</td>\n      <td>0.005</td>\n    </tr>\n    <tr>\n      <th>abnormal_short_term_variability</th>\n      <td>2126.0</td>\n      <td>46.990122</td>\n      <td>17.192814</td>\n      <td>12.0</td>\n      <td>32.000</td>\n      <td>49.000</td>\n      <td>61.000</td>\n      <td>87.000</td>\n    </tr>\n    <tr>\n      <th>mean_value_of_short_term_variability</th>\n      <td>2126.0</td>\n      <td>1.332785</td>\n      <td>0.883241</td>\n      <td>0.2</td>\n      <td>0.700</td>\n      <td>1.200</td>\n      <td>1.700</td>\n      <td>7.000</td>\n    </tr>\n    <tr>\n      <th>percentage_of_time_with_abnormal_long_term_variability</th>\n      <td>2126.0</td>\n      <td>9.846660</td>\n      <td>18.396880</td>\n      <td>0.0</td>\n      <td>0.000</td>\n      <td>0.000</td>\n      <td>11.000</td>\n      <td>91.000</td>\n    </tr>\n    <tr>\n      <th>mean_value_of_long_term_variability</th>\n      <td>2126.0</td>\n      <td>8.187629</td>\n      <td>5.628247</td>\n      <td>0.0</td>\n      <td>4.600</td>\n      <td>7.400</td>\n      <td>10.800</td>\n      <td>50.700</td>\n    </tr>\n    <tr>\n      <th>histogram_width</th>\n      <td>2126.0</td>\n      <td>70.445908</td>\n      <td>38.955693</td>\n      <td>3.0</td>\n      <td>37.000</td>\n      <td>67.500</td>\n      <td>100.000</td>\n      <td>180.000</td>\n    </tr>\n    <tr>\n      <th>histogram_min</th>\n      <td>2126.0</td>\n      <td>93.579492</td>\n      <td>29.560212</td>\n      <td>50.0</td>\n      <td>67.000</td>\n      <td>93.000</td>\n      <td>120.000</td>\n      <td>159.000</td>\n    </tr>\n    <tr>\n      <th>histogram_max</th>\n      <td>2126.0</td>\n      <td>164.025400</td>\n      <td>17.944183</td>\n      <td>122.0</td>\n      <td>152.000</td>\n      <td>162.000</td>\n      <td>174.000</td>\n      <td>238.000</td>\n    </tr>\n    <tr>\n      <th>histogram_number_of_peaks</th>\n      <td>2126.0</td>\n      <td>4.068203</td>\n      <td>2.949386</td>\n      <td>0.0</td>\n      <td>2.000</td>\n      <td>3.000</td>\n      <td>6.000</td>\n      <td>18.000</td>\n    </tr>\n    <tr>\n      <th>histogram_number_of_zeroes</th>\n      <td>2126.0</td>\n      <td>0.323612</td>\n      <td>0.706059</td>\n      <td>0.0</td>\n      <td>0.000</td>\n      <td>0.000</td>\n      <td>0.000</td>\n      <td>10.000</td>\n    </tr>\n    <tr>\n      <th>histogram_mode</th>\n      <td>2126.0</td>\n      <td>137.452023</td>\n      <td>16.381289</td>\n      <td>60.0</td>\n      <td>129.000</td>\n      <td>139.000</td>\n      <td>148.000</td>\n      <td>187.000</td>\n    </tr>\n    <tr>\n      <th>histogram_mean</th>\n      <td>2126.0</td>\n      <td>134.610536</td>\n      <td>15.593596</td>\n      <td>73.0</td>\n      <td>125.000</td>\n      <td>136.000</td>\n      <td>145.000</td>\n      <td>182.000</td>\n    </tr>\n    <tr>\n      <th>histogram_median</th>\n      <td>2126.0</td>\n      <td>138.090310</td>\n      <td>14.466589</td>\n      <td>77.0</td>\n      <td>129.000</td>\n      <td>139.000</td>\n      <td>148.000</td>\n      <td>186.000</td>\n    </tr>\n    <tr>\n      <th>histogram_variance</th>\n      <td>2126.0</td>\n      <td>18.808090</td>\n      <td>28.977636</td>\n      <td>0.0</td>\n      <td>2.000</td>\n      <td>7.000</td>\n      <td>24.000</td>\n      <td>269.000</td>\n    </tr>\n    <tr>\n      <th>histogram_tendency</th>\n      <td>2126.0</td>\n      <td>0.320320</td>\n      <td>0.610829</td>\n      <td>-1.0</td>\n      <td>0.000</td>\n      <td>0.000</td>\n      <td>1.000</td>\n      <td>1.000</td>\n    </tr>\n    <tr>\n      <th>fetal_health</th>\n      <td>2126.0</td>\n      <td>1.304327</td>\n      <td>0.614377</td>\n      <td>1.0</td>\n      <td>1.000</td>\n      <td>1.000</td>\n      <td>1.000</td>\n      <td>3.000</td>\n    </tr>\n  </tbody>\n</table>\n</div>"
     },
     "metadata": {},
     "execution_count": 6
    }
   ],
   "source": [
    "data.describe().T"
   ]
  },
  {
   "source": [
    "<h1>Analysis of Data</h1>\n",
    "<h4>This Section will cover the correlation of attributes and analysis of Data</h4>"
   ],
   "cell_type": "markdown",
   "metadata": {}
  },
  {
   "source": [
    "## Now we will take a look at how fetal Health looks like\n"
   ],
   "cell_type": "markdown",
   "metadata": {}
  },
  {
   "cell_type": "code",
   "execution_count": 7,
   "metadata": {},
   "outputs": [
    {
     "output_type": "execute_result",
     "data": {
      "text/plain": [
       "count    2126.000000\n",
       "mean        1.304327\n",
       "std         0.614377\n",
       "min         1.000000\n",
       "25%         1.000000\n",
       "50%         1.000000\n",
       "75%         1.000000\n",
       "max         3.000000\n",
       "Name: fetal_health, dtype: float64"
      ]
     },
     "metadata": {},
     "execution_count": 7
    }
   ],
   "source": [
    "data['fetal_health'].describe()"
   ]
  },
  {
   "source": [
    "## Plot of how fetal health looks like \n",
    "### 1.Normal\n",
    "### 2.Suspect\n",
    "### 3. Pathological"
   ],
   "cell_type": "code",
   "metadata": {},
   "execution_count": 8,
   "outputs": []
  },
  {
   "cell_type": "code",
   "execution_count": 9,
   "metadata": {},
   "outputs": [
    {
     "output_type": "stream",
     "name": "stdout",
     "text": [
      "1.0    1655\n2.0     295\n3.0     176\nName: fetal_health, dtype: int64\n"
     ]
    },
    {
     "output_type": "display_data",
     "data": {
      "text/plain": "<Figure size 720x360 with 2 Axes>",
      "image/svg+xml": "<?xml version=\"1.0\" encoding=\"utf-8\" standalone=\"no\"?>\n<!DOCTYPE svg PUBLIC \"-//W3C//DTD SVG 1.1//EN\"\n  \"http://www.w3.org/Graphics/SVG/1.1/DTD/svg11.dtd\">\n<!-- Created with matplotlib (https://matplotlib.org/) -->\n<svg height=\"337.899375pt\" version=\"1.1\" viewBox=\"0 0 660.069405 337.899375\" width=\"660.069405pt\" xmlns=\"http://www.w3.org/2000/svg\" xmlns:xlink=\"http://www.w3.org/1999/xlink\">\n <metadata>\n  <rdf:RDF xmlns:cc=\"http://creativecommons.org/ns#\" xmlns:dc=\"http://purl.org/dc/elements/1.1/\" xmlns:rdf=\"http://www.w3.org/1999/02/22-rdf-syntax-ns#\">\n   <cc:Work>\n    <dc:type rdf:resource=\"http://purl.org/dc/dcmitype/StillImage\"/>\n    <dc:date>2021-05-04T23:40:48.982624</dc:date>\n    <dc:format>image/svg+xml</dc:format>\n    <dc:creator>\n     <cc:Agent>\n      <dc:title>Matplotlib v3.3.2, https://matplotlib.org/</dc:title>\n     </cc:Agent>\n    </dc:creator>\n   </cc:Work>\n  </rdf:RDF>\n </metadata>\n <defs>\n  <style type=\"text/css\">*{stroke-linecap:butt;stroke-linejoin:round;}</style>\n </defs>\n <g id=\"figure_1\">\n  <g id=\"patch_1\">\n   <path d=\"M 0 337.899375 \nL 660.069405 337.899375 \nL 660.069405 0 \nL 0 0 \nz\n\" style=\"fill:none;\"/>\n  </g>\n  <g id=\"axes_1\">\n   <g id=\"patch_2\">\n    <path d=\"M 53.328125 294.118125 \nL 306.964489 294.118125 \nL 306.964489 22.318125 \nL 53.328125 22.318125 \nz\n\" style=\"fill:#ffffff;\"/>\n   </g>\n   <g id=\"patch_3\">\n    <path clip-path=\"url(#p915a5e0d4e)\" d=\"M 74.464489 294.118125 \nL 116.737216 294.118125 \nL 116.737216 35.260982 \nL 74.464489 35.260982 \nz\n\" style=\"fill:#5f9ea0;\"/>\n   </g>\n   <g id=\"patch_4\">\n    <path clip-path=\"url(#p915a5e0d4e)\" d=\"M 159.009943 294.118125 \nL 201.28267 294.118125 \nL 201.28267 247.977426 \nL 159.009943 247.977426 \nz\n\" style=\"fill:#b0e0e6;\"/>\n   </g>\n   <g id=\"patch_5\">\n    <path clip-path=\"url(#p915a5e0d4e)\" d=\"M 243.555398 294.118125 \nL 285.828125 294.118125 \nL 285.828125 266.590115 \nL 243.555398 266.590115 \nz\n\" style=\"fill:#add8e6;\"/>\n   </g>\n   <g id=\"matplotlib.axis_1\">\n    <g id=\"xtick_1\">\n     <g id=\"line2d_1\">\n      <defs>\n       <path d=\"M 0 0 \nL 0 3.5 \n\" id=\"mde84fdbf69\" style=\"stroke:#000000;stroke-width:0.8;\"/>\n      </defs>\n      <g>\n       <use style=\"stroke:#000000;stroke-width:0.8;\" x=\"95.600852\" xlink:href=\"#mde84fdbf69\" y=\"294.118125\"/>\n      </g>\n     </g>\n     <g id=\"text_1\">\n      <!-- 1.0 -->\n      <g transform=\"translate(98.360227 317.02125)rotate(-90)scale(0.1 -0.1)\">\n       <defs>\n        <path d=\"M 12.40625 8.296875 \nL 28.515625 8.296875 \nL 28.515625 63.921875 \nL 10.984375 60.40625 \nL 10.984375 69.390625 \nL 28.421875 72.90625 \nL 38.28125 72.90625 \nL 38.28125 8.296875 \nL 54.390625 8.296875 \nL 54.390625 0 \nL 12.40625 0 \nz\n\" id=\"DejaVuSans-49\"/>\n        <path d=\"M 10.6875 12.40625 \nL 21 12.40625 \nL 21 0 \nL 10.6875 0 \nz\n\" id=\"DejaVuSans-46\"/>\n        <path d=\"M 31.78125 66.40625 \nQ 24.171875 66.40625 20.328125 58.90625 \nQ 16.5 51.421875 16.5 36.375 \nQ 16.5 21.390625 20.328125 13.890625 \nQ 24.171875 6.390625 31.78125 6.390625 \nQ 39.453125 6.390625 43.28125 13.890625 \nQ 47.125 21.390625 47.125 36.375 \nQ 47.125 51.421875 43.28125 58.90625 \nQ 39.453125 66.40625 31.78125 66.40625 \nz\nM 31.78125 74.21875 \nQ 44.046875 74.21875 50.515625 64.515625 \nQ 56.984375 54.828125 56.984375 36.375 \nQ 56.984375 17.96875 50.515625 8.265625 \nQ 44.046875 -1.421875 31.78125 -1.421875 \nQ 19.53125 -1.421875 13.0625 8.265625 \nQ 6.59375 17.96875 6.59375 36.375 \nQ 6.59375 54.828125 13.0625 64.515625 \nQ 19.53125 74.21875 31.78125 74.21875 \nz\n\" id=\"DejaVuSans-48\"/>\n       </defs>\n       <use xlink:href=\"#DejaVuSans-49\"/>\n       <use x=\"63.623047\" xlink:href=\"#DejaVuSans-46\"/>\n       <use x=\"95.410156\" xlink:href=\"#DejaVuSans-48\"/>\n      </g>\n     </g>\n    </g>\n    <g id=\"xtick_2\">\n     <g id=\"line2d_2\">\n      <g>\n       <use style=\"stroke:#000000;stroke-width:0.8;\" x=\"180.146307\" xlink:href=\"#mde84fdbf69\" y=\"294.118125\"/>\n      </g>\n     </g>\n     <g id=\"text_2\">\n      <!-- 2.0 -->\n      <g transform=\"translate(182.905682 317.02125)rotate(-90)scale(0.1 -0.1)\">\n       <defs>\n        <path d=\"M 19.1875 8.296875 \nL 53.609375 8.296875 \nL 53.609375 0 \nL 7.328125 0 \nL 7.328125 8.296875 \nQ 12.9375 14.109375 22.625 23.890625 \nQ 32.328125 33.6875 34.8125 36.53125 \nQ 39.546875 41.84375 41.421875 45.53125 \nQ 43.3125 49.21875 43.3125 52.78125 \nQ 43.3125 58.59375 39.234375 62.25 \nQ 35.15625 65.921875 28.609375 65.921875 \nQ 23.96875 65.921875 18.8125 64.3125 \nQ 13.671875 62.703125 7.8125 59.421875 \nL 7.8125 69.390625 \nQ 13.765625 71.78125 18.9375 73 \nQ 24.125 74.21875 28.421875 74.21875 \nQ 39.75 74.21875 46.484375 68.546875 \nQ 53.21875 62.890625 53.21875 53.421875 \nQ 53.21875 48.921875 51.53125 44.890625 \nQ 49.859375 40.875 45.40625 35.40625 \nQ 44.1875 33.984375 37.640625 27.21875 \nQ 31.109375 20.453125 19.1875 8.296875 \nz\n\" id=\"DejaVuSans-50\"/>\n       </defs>\n       <use xlink:href=\"#DejaVuSans-50\"/>\n       <use x=\"63.623047\" xlink:href=\"#DejaVuSans-46\"/>\n       <use x=\"95.410156\" xlink:href=\"#DejaVuSans-48\"/>\n      </g>\n     </g>\n    </g>\n    <g id=\"xtick_3\">\n     <g id=\"line2d_3\">\n      <g>\n       <use style=\"stroke:#000000;stroke-width:0.8;\" x=\"264.691761\" xlink:href=\"#mde84fdbf69\" y=\"294.118125\"/>\n      </g>\n     </g>\n     <g id=\"text_3\">\n      <!-- 3.0 -->\n      <g transform=\"translate(267.451136 317.02125)rotate(-90)scale(0.1 -0.1)\">\n       <defs>\n        <path d=\"M 40.578125 39.3125 \nQ 47.65625 37.796875 51.625 33 \nQ 55.609375 28.21875 55.609375 21.1875 \nQ 55.609375 10.40625 48.1875 4.484375 \nQ 40.765625 -1.421875 27.09375 -1.421875 \nQ 22.515625 -1.421875 17.65625 -0.515625 \nQ 12.796875 0.390625 7.625 2.203125 \nL 7.625 11.71875 \nQ 11.71875 9.328125 16.59375 8.109375 \nQ 21.484375 6.890625 26.8125 6.890625 \nQ 36.078125 6.890625 40.9375 10.546875 \nQ 45.796875 14.203125 45.796875 21.1875 \nQ 45.796875 27.640625 41.28125 31.265625 \nQ 36.765625 34.90625 28.71875 34.90625 \nL 20.21875 34.90625 \nL 20.21875 43.015625 \nL 29.109375 43.015625 \nQ 36.375 43.015625 40.234375 45.921875 \nQ 44.09375 48.828125 44.09375 54.296875 \nQ 44.09375 59.90625 40.109375 62.90625 \nQ 36.140625 65.921875 28.71875 65.921875 \nQ 24.65625 65.921875 20.015625 65.03125 \nQ 15.375 64.15625 9.8125 62.3125 \nL 9.8125 71.09375 \nQ 15.4375 72.65625 20.34375 73.4375 \nQ 25.25 74.21875 29.59375 74.21875 \nQ 40.828125 74.21875 47.359375 69.109375 \nQ 53.90625 64.015625 53.90625 55.328125 \nQ 53.90625 49.265625 50.4375 45.09375 \nQ 46.96875 40.921875 40.578125 39.3125 \nz\n\" id=\"DejaVuSans-51\"/>\n       </defs>\n       <use xlink:href=\"#DejaVuSans-51\"/>\n       <use x=\"63.623047\" xlink:href=\"#DejaVuSans-46\"/>\n       <use x=\"95.410156\" xlink:href=\"#DejaVuSans-48\"/>\n      </g>\n     </g>\n    </g>\n    <g id=\"text_4\">\n     <!-- Fetal helth -->\n     <g transform=\"translate(153.703338 328.619687)scale(0.1 -0.1)\">\n      <defs>\n       <path d=\"M 9.8125 72.90625 \nL 51.703125 72.90625 \nL 51.703125 64.59375 \nL 19.671875 64.59375 \nL 19.671875 43.109375 \nL 48.578125 43.109375 \nL 48.578125 34.8125 \nL 19.671875 34.8125 \nL 19.671875 0 \nL 9.8125 0 \nz\n\" id=\"DejaVuSans-70\"/>\n       <path d=\"M 56.203125 29.59375 \nL 56.203125 25.203125 \nL 14.890625 25.203125 \nQ 15.484375 15.921875 20.484375 11.0625 \nQ 25.484375 6.203125 34.421875 6.203125 \nQ 39.59375 6.203125 44.453125 7.46875 \nQ 49.3125 8.734375 54.109375 11.28125 \nL 54.109375 2.78125 \nQ 49.265625 0.734375 44.1875 -0.34375 \nQ 39.109375 -1.421875 33.890625 -1.421875 \nQ 20.796875 -1.421875 13.15625 6.1875 \nQ 5.515625 13.8125 5.515625 26.8125 \nQ 5.515625 40.234375 12.765625 48.109375 \nQ 20.015625 56 32.328125 56 \nQ 43.359375 56 49.78125 48.890625 \nQ 56.203125 41.796875 56.203125 29.59375 \nz\nM 47.21875 32.234375 \nQ 47.125 39.59375 43.09375 43.984375 \nQ 39.0625 48.390625 32.421875 48.390625 \nQ 24.90625 48.390625 20.390625 44.140625 \nQ 15.875 39.890625 15.1875 32.171875 \nz\n\" id=\"DejaVuSans-101\"/>\n       <path d=\"M 18.3125 70.21875 \nL 18.3125 54.6875 \nL 36.8125 54.6875 \nL 36.8125 47.703125 \nL 18.3125 47.703125 \nL 18.3125 18.015625 \nQ 18.3125 11.328125 20.140625 9.421875 \nQ 21.96875 7.515625 27.59375 7.515625 \nL 36.8125 7.515625 \nL 36.8125 0 \nL 27.59375 0 \nQ 17.1875 0 13.234375 3.875 \nQ 9.28125 7.765625 9.28125 18.015625 \nL 9.28125 47.703125 \nL 2.6875 47.703125 \nL 2.6875 54.6875 \nL 9.28125 54.6875 \nL 9.28125 70.21875 \nz\n\" id=\"DejaVuSans-116\"/>\n       <path d=\"M 34.28125 27.484375 \nQ 23.390625 27.484375 19.1875 25 \nQ 14.984375 22.515625 14.984375 16.5 \nQ 14.984375 11.71875 18.140625 8.90625 \nQ 21.296875 6.109375 26.703125 6.109375 \nQ 34.1875 6.109375 38.703125 11.40625 \nQ 43.21875 16.703125 43.21875 25.484375 \nL 43.21875 27.484375 \nz\nM 52.203125 31.203125 \nL 52.203125 0 \nL 43.21875 0 \nL 43.21875 8.296875 \nQ 40.140625 3.328125 35.546875 0.953125 \nQ 30.953125 -1.421875 24.3125 -1.421875 \nQ 15.921875 -1.421875 10.953125 3.296875 \nQ 6 8.015625 6 15.921875 \nQ 6 25.140625 12.171875 29.828125 \nQ 18.359375 34.515625 30.609375 34.515625 \nL 43.21875 34.515625 \nL 43.21875 35.40625 \nQ 43.21875 41.609375 39.140625 45 \nQ 35.0625 48.390625 27.6875 48.390625 \nQ 23 48.390625 18.546875 47.265625 \nQ 14.109375 46.140625 10.015625 43.890625 \nL 10.015625 52.203125 \nQ 14.9375 54.109375 19.578125 55.046875 \nQ 24.21875 56 28.609375 56 \nQ 40.484375 56 46.34375 49.84375 \nQ 52.203125 43.703125 52.203125 31.203125 \nz\n\" id=\"DejaVuSans-97\"/>\n       <path d=\"M 9.421875 75.984375 \nL 18.40625 75.984375 \nL 18.40625 0 \nL 9.421875 0 \nz\n\" id=\"DejaVuSans-108\"/>\n       <path id=\"DejaVuSans-32\"/>\n       <path d=\"M 54.890625 33.015625 \nL 54.890625 0 \nL 45.90625 0 \nL 45.90625 32.71875 \nQ 45.90625 40.484375 42.875 44.328125 \nQ 39.84375 48.1875 33.796875 48.1875 \nQ 26.515625 48.1875 22.3125 43.546875 \nQ 18.109375 38.921875 18.109375 30.90625 \nL 18.109375 0 \nL 9.078125 0 \nL 9.078125 75.984375 \nL 18.109375 75.984375 \nL 18.109375 46.1875 \nQ 21.34375 51.125 25.703125 53.5625 \nQ 30.078125 56 35.796875 56 \nQ 45.21875 56 50.046875 50.171875 \nQ 54.890625 44.34375 54.890625 33.015625 \nz\n\" id=\"DejaVuSans-104\"/>\n      </defs>\n      <use xlink:href=\"#DejaVuSans-70\"/>\n      <use x=\"52.019531\" xlink:href=\"#DejaVuSans-101\"/>\n      <use x=\"113.542969\" xlink:href=\"#DejaVuSans-116\"/>\n      <use x=\"152.751953\" xlink:href=\"#DejaVuSans-97\"/>\n      <use x=\"214.03125\" xlink:href=\"#DejaVuSans-108\"/>\n      <use x=\"241.814453\" xlink:href=\"#DejaVuSans-32\"/>\n      <use x=\"273.601562\" xlink:href=\"#DejaVuSans-104\"/>\n      <use x=\"336.980469\" xlink:href=\"#DejaVuSans-101\"/>\n      <use x=\"398.503906\" xlink:href=\"#DejaVuSans-108\"/>\n      <use x=\"426.287109\" xlink:href=\"#DejaVuSans-116\"/>\n      <use x=\"465.496094\" xlink:href=\"#DejaVuSans-104\"/>\n     </g>\n    </g>\n   </g>\n   <g id=\"matplotlib.axis_2\">\n    <g id=\"ytick_1\">\n     <g id=\"line2d_4\">\n      <defs>\n       <path d=\"M 0 0 \nL -3.5 0 \n\" id=\"me89eec0d43\" style=\"stroke:#000000;stroke-width:0.8;\"/>\n      </defs>\n      <g>\n       <use style=\"stroke:#000000;stroke-width:0.8;\" x=\"53.328125\" xlink:href=\"#me89eec0d43\" y=\"294.118125\"/>\n      </g>\n     </g>\n     <g id=\"text_5\">\n      <!-- 0 -->\n      <g transform=\"translate(39.965625 297.917344)scale(0.1 -0.1)\">\n       <use xlink:href=\"#DejaVuSans-48\"/>\n      </g>\n     </g>\n    </g>\n    <g id=\"ytick_2\">\n     <g id=\"line2d_5\">\n      <g>\n       <use style=\"stroke:#000000;stroke-width:0.8;\" x=\"53.328125\" xlink:href=\"#me89eec0d43\" y=\"262.836295\"/>\n      </g>\n     </g>\n     <g id=\"text_6\">\n      <!-- 200 -->\n      <g transform=\"translate(27.240625 266.635514)scale(0.1 -0.1)\">\n       <use xlink:href=\"#DejaVuSans-50\"/>\n       <use x=\"63.623047\" xlink:href=\"#DejaVuSans-48\"/>\n       <use x=\"127.246094\" xlink:href=\"#DejaVuSans-48\"/>\n      </g>\n     </g>\n    </g>\n    <g id=\"ytick_3\">\n     <g id=\"line2d_6\">\n      <g>\n       <use style=\"stroke:#000000;stroke-width:0.8;\" x=\"53.328125\" xlink:href=\"#me89eec0d43\" y=\"231.554465\"/>\n      </g>\n     </g>\n     <g id=\"text_7\">\n      <!-- 400 -->\n      <g transform=\"translate(27.240625 235.353684)scale(0.1 -0.1)\">\n       <defs>\n        <path d=\"M 37.796875 64.3125 \nL 12.890625 25.390625 \nL 37.796875 25.390625 \nz\nM 35.203125 72.90625 \nL 47.609375 72.90625 \nL 47.609375 25.390625 \nL 58.015625 25.390625 \nL 58.015625 17.1875 \nL 47.609375 17.1875 \nL 47.609375 0 \nL 37.796875 0 \nL 37.796875 17.1875 \nL 4.890625 17.1875 \nL 4.890625 26.703125 \nz\n\" id=\"DejaVuSans-52\"/>\n       </defs>\n       <use xlink:href=\"#DejaVuSans-52\"/>\n       <use x=\"63.623047\" xlink:href=\"#DejaVuSans-48\"/>\n       <use x=\"127.246094\" xlink:href=\"#DejaVuSans-48\"/>\n      </g>\n     </g>\n    </g>\n    <g id=\"ytick_4\">\n     <g id=\"line2d_7\">\n      <g>\n       <use style=\"stroke:#000000;stroke-width:0.8;\" x=\"53.328125\" xlink:href=\"#me89eec0d43\" y=\"200.272635\"/>\n      </g>\n     </g>\n     <g id=\"text_8\">\n      <!-- 600 -->\n      <g transform=\"translate(27.240625 204.071854)scale(0.1 -0.1)\">\n       <defs>\n        <path d=\"M 33.015625 40.375 \nQ 26.375 40.375 22.484375 35.828125 \nQ 18.609375 31.296875 18.609375 23.390625 \nQ 18.609375 15.53125 22.484375 10.953125 \nQ 26.375 6.390625 33.015625 6.390625 \nQ 39.65625 6.390625 43.53125 10.953125 \nQ 47.40625 15.53125 47.40625 23.390625 \nQ 47.40625 31.296875 43.53125 35.828125 \nQ 39.65625 40.375 33.015625 40.375 \nz\nM 52.59375 71.296875 \nL 52.59375 62.3125 \nQ 48.875 64.0625 45.09375 64.984375 \nQ 41.3125 65.921875 37.59375 65.921875 \nQ 27.828125 65.921875 22.671875 59.328125 \nQ 17.53125 52.734375 16.796875 39.40625 \nQ 19.671875 43.65625 24.015625 45.921875 \nQ 28.375 48.1875 33.59375 48.1875 \nQ 44.578125 48.1875 50.953125 41.515625 \nQ 57.328125 34.859375 57.328125 23.390625 \nQ 57.328125 12.15625 50.6875 5.359375 \nQ 44.046875 -1.421875 33.015625 -1.421875 \nQ 20.359375 -1.421875 13.671875 8.265625 \nQ 6.984375 17.96875 6.984375 36.375 \nQ 6.984375 53.65625 15.1875 63.9375 \nQ 23.390625 74.21875 37.203125 74.21875 \nQ 40.921875 74.21875 44.703125 73.484375 \nQ 48.484375 72.75 52.59375 71.296875 \nz\n\" id=\"DejaVuSans-54\"/>\n       </defs>\n       <use xlink:href=\"#DejaVuSans-54\"/>\n       <use x=\"63.623047\" xlink:href=\"#DejaVuSans-48\"/>\n       <use x=\"127.246094\" xlink:href=\"#DejaVuSans-48\"/>\n      </g>\n     </g>\n    </g>\n    <g id=\"ytick_5\">\n     <g id=\"line2d_8\">\n      <g>\n       <use style=\"stroke:#000000;stroke-width:0.8;\" x=\"53.328125\" xlink:href=\"#me89eec0d43\" y=\"168.990805\"/>\n      </g>\n     </g>\n     <g id=\"text_9\">\n      <!-- 800 -->\n      <g transform=\"translate(27.240625 172.790024)scale(0.1 -0.1)\">\n       <defs>\n        <path d=\"M 31.78125 34.625 \nQ 24.75 34.625 20.71875 30.859375 \nQ 16.703125 27.09375 16.703125 20.515625 \nQ 16.703125 13.921875 20.71875 10.15625 \nQ 24.75 6.390625 31.78125 6.390625 \nQ 38.8125 6.390625 42.859375 10.171875 \nQ 46.921875 13.96875 46.921875 20.515625 \nQ 46.921875 27.09375 42.890625 30.859375 \nQ 38.875 34.625 31.78125 34.625 \nz\nM 21.921875 38.8125 \nQ 15.578125 40.375 12.03125 44.71875 \nQ 8.5 49.078125 8.5 55.328125 \nQ 8.5 64.0625 14.71875 69.140625 \nQ 20.953125 74.21875 31.78125 74.21875 \nQ 42.671875 74.21875 48.875 69.140625 \nQ 55.078125 64.0625 55.078125 55.328125 \nQ 55.078125 49.078125 51.53125 44.71875 \nQ 48 40.375 41.703125 38.8125 \nQ 48.828125 37.15625 52.796875 32.3125 \nQ 56.78125 27.484375 56.78125 20.515625 \nQ 56.78125 9.90625 50.3125 4.234375 \nQ 43.84375 -1.421875 31.78125 -1.421875 \nQ 19.734375 -1.421875 13.25 4.234375 \nQ 6.78125 9.90625 6.78125 20.515625 \nQ 6.78125 27.484375 10.78125 32.3125 \nQ 14.796875 37.15625 21.921875 38.8125 \nz\nM 18.3125 54.390625 \nQ 18.3125 48.734375 21.84375 45.5625 \nQ 25.390625 42.390625 31.78125 42.390625 \nQ 38.140625 42.390625 41.71875 45.5625 \nQ 45.3125 48.734375 45.3125 54.390625 \nQ 45.3125 60.0625 41.71875 63.234375 \nQ 38.140625 66.40625 31.78125 66.40625 \nQ 25.390625 66.40625 21.84375 63.234375 \nQ 18.3125 60.0625 18.3125 54.390625 \nz\n\" id=\"DejaVuSans-56\"/>\n       </defs>\n       <use xlink:href=\"#DejaVuSans-56\"/>\n       <use x=\"63.623047\" xlink:href=\"#DejaVuSans-48\"/>\n       <use x=\"127.246094\" xlink:href=\"#DejaVuSans-48\"/>\n      </g>\n     </g>\n    </g>\n    <g id=\"ytick_6\">\n     <g id=\"line2d_9\">\n      <g>\n       <use style=\"stroke:#000000;stroke-width:0.8;\" x=\"53.328125\" xlink:href=\"#me89eec0d43\" y=\"137.708975\"/>\n      </g>\n     </g>\n     <g id=\"text_10\">\n      <!-- 1000 -->\n      <g transform=\"translate(20.878125 141.508194)scale(0.1 -0.1)\">\n       <use xlink:href=\"#DejaVuSans-49\"/>\n       <use x=\"63.623047\" xlink:href=\"#DejaVuSans-48\"/>\n       <use x=\"127.246094\" xlink:href=\"#DejaVuSans-48\"/>\n       <use x=\"190.869141\" xlink:href=\"#DejaVuSans-48\"/>\n      </g>\n     </g>\n    </g>\n    <g id=\"ytick_7\">\n     <g id=\"line2d_10\">\n      <g>\n       <use style=\"stroke:#000000;stroke-width:0.8;\" x=\"53.328125\" xlink:href=\"#me89eec0d43\" y=\"106.427145\"/>\n      </g>\n     </g>\n     <g id=\"text_11\">\n      <!-- 1200 -->\n      <g transform=\"translate(20.878125 110.226364)scale(0.1 -0.1)\">\n       <use xlink:href=\"#DejaVuSans-49\"/>\n       <use x=\"63.623047\" xlink:href=\"#DejaVuSans-50\"/>\n       <use x=\"127.246094\" xlink:href=\"#DejaVuSans-48\"/>\n       <use x=\"190.869141\" xlink:href=\"#DejaVuSans-48\"/>\n      </g>\n     </g>\n    </g>\n    <g id=\"ytick_8\">\n     <g id=\"line2d_11\">\n      <g>\n       <use style=\"stroke:#000000;stroke-width:0.8;\" x=\"53.328125\" xlink:href=\"#me89eec0d43\" y=\"75.145315\"/>\n      </g>\n     </g>\n     <g id=\"text_12\">\n      <!-- 1400 -->\n      <g transform=\"translate(20.878125 78.944534)scale(0.1 -0.1)\">\n       <use xlink:href=\"#DejaVuSans-49\"/>\n       <use x=\"63.623047\" xlink:href=\"#DejaVuSans-52\"/>\n       <use x=\"127.246094\" xlink:href=\"#DejaVuSans-48\"/>\n       <use x=\"190.869141\" xlink:href=\"#DejaVuSans-48\"/>\n      </g>\n     </g>\n    </g>\n    <g id=\"ytick_9\">\n     <g id=\"line2d_12\">\n      <g>\n       <use style=\"stroke:#000000;stroke-width:0.8;\" x=\"53.328125\" xlink:href=\"#me89eec0d43\" y=\"43.863485\"/>\n      </g>\n     </g>\n     <g id=\"text_13\">\n      <!-- 1600 -->\n      <g transform=\"translate(20.878125 47.662704)scale(0.1 -0.1)\">\n       <use xlink:href=\"#DejaVuSans-49\"/>\n       <use x=\"63.623047\" xlink:href=\"#DejaVuSans-54\"/>\n       <use x=\"127.246094\" xlink:href=\"#DejaVuSans-48\"/>\n       <use x=\"190.869141\" xlink:href=\"#DejaVuSans-48\"/>\n      </g>\n     </g>\n    </g>\n    <g id=\"text_14\">\n     <!-- Cases -->\n     <g transform=\"translate(14.798438 173.059531)rotate(-90)scale(0.1 -0.1)\">\n      <defs>\n       <path d=\"M 64.40625 67.28125 \nL 64.40625 56.890625 \nQ 59.421875 61.53125 53.78125 63.8125 \nQ 48.140625 66.109375 41.796875 66.109375 \nQ 29.296875 66.109375 22.65625 58.46875 \nQ 16.015625 50.828125 16.015625 36.375 \nQ 16.015625 21.96875 22.65625 14.328125 \nQ 29.296875 6.6875 41.796875 6.6875 \nQ 48.140625 6.6875 53.78125 8.984375 \nQ 59.421875 11.28125 64.40625 15.921875 \nL 64.40625 5.609375 \nQ 59.234375 2.09375 53.4375 0.328125 \nQ 47.65625 -1.421875 41.21875 -1.421875 \nQ 24.65625 -1.421875 15.125 8.703125 \nQ 5.609375 18.84375 5.609375 36.375 \nQ 5.609375 53.953125 15.125 64.078125 \nQ 24.65625 74.21875 41.21875 74.21875 \nQ 47.75 74.21875 53.53125 72.484375 \nQ 59.328125 70.75 64.40625 67.28125 \nz\n\" id=\"DejaVuSans-67\"/>\n       <path d=\"M 44.28125 53.078125 \nL 44.28125 44.578125 \nQ 40.484375 46.53125 36.375 47.5 \nQ 32.28125 48.484375 27.875 48.484375 \nQ 21.1875 48.484375 17.84375 46.4375 \nQ 14.5 44.390625 14.5 40.28125 \nQ 14.5 37.15625 16.890625 35.375 \nQ 19.28125 33.59375 26.515625 31.984375 \nL 29.59375 31.296875 \nQ 39.15625 29.25 43.1875 25.515625 \nQ 47.21875 21.78125 47.21875 15.09375 \nQ 47.21875 7.46875 41.1875 3.015625 \nQ 35.15625 -1.421875 24.609375 -1.421875 \nQ 20.21875 -1.421875 15.453125 -0.5625 \nQ 10.6875 0.296875 5.421875 2 \nL 5.421875 11.28125 \nQ 10.40625 8.6875 15.234375 7.390625 \nQ 20.0625 6.109375 24.8125 6.109375 \nQ 31.15625 6.109375 34.5625 8.28125 \nQ 37.984375 10.453125 37.984375 14.40625 \nQ 37.984375 18.0625 35.515625 20.015625 \nQ 33.0625 21.96875 24.703125 23.78125 \nL 21.578125 24.515625 \nQ 13.234375 26.265625 9.515625 29.90625 \nQ 5.8125 33.546875 5.8125 39.890625 \nQ 5.8125 47.609375 11.28125 51.796875 \nQ 16.75 56 26.8125 56 \nQ 31.78125 56 36.171875 55.265625 \nQ 40.578125 54.546875 44.28125 53.078125 \nz\n\" id=\"DejaVuSans-115\"/>\n      </defs>\n      <use xlink:href=\"#DejaVuSans-67\"/>\n      <use x=\"69.824219\" xlink:href=\"#DejaVuSans-97\"/>\n      <use x=\"131.103516\" xlink:href=\"#DejaVuSans-115\"/>\n      <use x=\"183.203125\" xlink:href=\"#DejaVuSans-101\"/>\n      <use x=\"244.726562\" xlink:href=\"#DejaVuSans-115\"/>\n     </g>\n    </g>\n   </g>\n   <g id=\"patch_6\">\n    <path d=\"M 53.328125 294.118125 \nL 53.328125 22.318125 \n\" style=\"fill:none;stroke:#000000;stroke-linecap:square;stroke-linejoin:miter;stroke-width:0.8;\"/>\n   </g>\n   <g id=\"patch_7\">\n    <path d=\"M 306.964489 294.118125 \nL 306.964489 22.318125 \n\" style=\"fill:none;stroke:#000000;stroke-linecap:square;stroke-linejoin:miter;stroke-width:0.8;\"/>\n   </g>\n   <g id=\"patch_8\">\n    <path d=\"M 53.328125 294.118125 \nL 306.964489 294.118125 \n\" style=\"fill:none;stroke:#000000;stroke-linecap:square;stroke-linejoin:miter;stroke-width:0.8;\"/>\n   </g>\n   <g id=\"patch_9\">\n    <path d=\"M 53.328125 22.318125 \nL 306.964489 22.318125 \n\" style=\"fill:none;stroke:#000000;stroke-linecap:square;stroke-linejoin:miter;stroke-width:0.8;\"/>\n   </g>\n   <g id=\"text_15\">\n    <!-- Fetal health count -->\n    <g transform=\"translate(125.903494 16.318125)scale(0.12 -0.12)\">\n     <defs>\n      <path d=\"M 48.78125 52.59375 \nL 48.78125 44.1875 \nQ 44.96875 46.296875 41.140625 47.34375 \nQ 37.3125 48.390625 33.40625 48.390625 \nQ 24.65625 48.390625 19.8125 42.84375 \nQ 14.984375 37.3125 14.984375 27.296875 \nQ 14.984375 17.28125 19.8125 11.734375 \nQ 24.65625 6.203125 33.40625 6.203125 \nQ 37.3125 6.203125 41.140625 7.25 \nQ 44.96875 8.296875 48.78125 10.40625 \nL 48.78125 2.09375 \nQ 45.015625 0.34375 40.984375 -0.53125 \nQ 36.96875 -1.421875 32.421875 -1.421875 \nQ 20.0625 -1.421875 12.78125 6.34375 \nQ 5.515625 14.109375 5.515625 27.296875 \nQ 5.515625 40.671875 12.859375 48.328125 \nQ 20.21875 56 33.015625 56 \nQ 37.15625 56 41.109375 55.140625 \nQ 45.0625 54.296875 48.78125 52.59375 \nz\n\" id=\"DejaVuSans-99\"/>\n      <path d=\"M 30.609375 48.390625 \nQ 23.390625 48.390625 19.1875 42.75 \nQ 14.984375 37.109375 14.984375 27.296875 \nQ 14.984375 17.484375 19.15625 11.84375 \nQ 23.34375 6.203125 30.609375 6.203125 \nQ 37.796875 6.203125 41.984375 11.859375 \nQ 46.1875 17.53125 46.1875 27.296875 \nQ 46.1875 37.015625 41.984375 42.703125 \nQ 37.796875 48.390625 30.609375 48.390625 \nz\nM 30.609375 56 \nQ 42.328125 56 49.015625 48.375 \nQ 55.71875 40.765625 55.71875 27.296875 \nQ 55.71875 13.875 49.015625 6.21875 \nQ 42.328125 -1.421875 30.609375 -1.421875 \nQ 18.84375 -1.421875 12.171875 6.21875 \nQ 5.515625 13.875 5.515625 27.296875 \nQ 5.515625 40.765625 12.171875 48.375 \nQ 18.84375 56 30.609375 56 \nz\n\" id=\"DejaVuSans-111\"/>\n      <path d=\"M 8.5 21.578125 \nL 8.5 54.6875 \nL 17.484375 54.6875 \nL 17.484375 21.921875 \nQ 17.484375 14.15625 20.5 10.265625 \nQ 23.53125 6.390625 29.59375 6.390625 \nQ 36.859375 6.390625 41.078125 11.03125 \nQ 45.3125 15.671875 45.3125 23.6875 \nL 45.3125 54.6875 \nL 54.296875 54.6875 \nL 54.296875 0 \nL 45.3125 0 \nL 45.3125 8.40625 \nQ 42.046875 3.421875 37.71875 1 \nQ 33.40625 -1.421875 27.6875 -1.421875 \nQ 18.265625 -1.421875 13.375 4.4375 \nQ 8.5 10.296875 8.5 21.578125 \nz\nM 31.109375 56 \nz\n\" id=\"DejaVuSans-117\"/>\n      <path d=\"M 54.890625 33.015625 \nL 54.890625 0 \nL 45.90625 0 \nL 45.90625 32.71875 \nQ 45.90625 40.484375 42.875 44.328125 \nQ 39.84375 48.1875 33.796875 48.1875 \nQ 26.515625 48.1875 22.3125 43.546875 \nQ 18.109375 38.921875 18.109375 30.90625 \nL 18.109375 0 \nL 9.078125 0 \nL 9.078125 54.6875 \nL 18.109375 54.6875 \nL 18.109375 46.1875 \nQ 21.34375 51.125 25.703125 53.5625 \nQ 30.078125 56 35.796875 56 \nQ 45.21875 56 50.046875 50.171875 \nQ 54.890625 44.34375 54.890625 33.015625 \nz\n\" id=\"DejaVuSans-110\"/>\n     </defs>\n     <use xlink:href=\"#DejaVuSans-70\"/>\n     <use x=\"52.019531\" xlink:href=\"#DejaVuSans-101\"/>\n     <use x=\"113.542969\" xlink:href=\"#DejaVuSans-116\"/>\n     <use x=\"152.751953\" xlink:href=\"#DejaVuSans-97\"/>\n     <use x=\"214.03125\" xlink:href=\"#DejaVuSans-108\"/>\n     <use x=\"241.814453\" xlink:href=\"#DejaVuSans-32\"/>\n     <use x=\"273.601562\" xlink:href=\"#DejaVuSans-104\"/>\n     <use x=\"336.980469\" xlink:href=\"#DejaVuSans-101\"/>\n     <use x=\"398.503906\" xlink:href=\"#DejaVuSans-97\"/>\n     <use x=\"459.783203\" xlink:href=\"#DejaVuSans-108\"/>\n     <use x=\"487.566406\" xlink:href=\"#DejaVuSans-116\"/>\n     <use x=\"526.775391\" xlink:href=\"#DejaVuSans-104\"/>\n     <use x=\"590.154297\" xlink:href=\"#DejaVuSans-32\"/>\n     <use x=\"621.941406\" xlink:href=\"#DejaVuSans-99\"/>\n     <use x=\"676.921875\" xlink:href=\"#DejaVuSans-111\"/>\n     <use x=\"738.103516\" xlink:href=\"#DejaVuSans-117\"/>\n     <use x=\"801.482422\" xlink:href=\"#DejaVuSans-110\"/>\n     <use x=\"864.861328\" xlink:href=\"#DejaVuSans-116\"/>\n    </g>\n   </g>\n  </g>\n  <g id=\"axes_2\">\n   <g id=\"patch_10\">\n    <path d=\"M 585.964489 158.218125 \nC 585.964489 147.85984 584.378152 137.56238 581.260719 127.684339 \nC 578.143287 117.806298 573.531372 108.463687 567.585576 99.981848 \nC 561.639781 91.500009 554.429934 83.978555 546.207109 77.679411 \nC 537.984285 71.380266 528.845052 66.37741 519.107672 62.845058 \nC 509.370292 59.312706 499.149124 57.292344 488.800104 56.854328 \nC 478.451084 56.416312 468.095754 57.565786 458.094723 60.262722 \nC 448.093693 62.959658 438.564416 67.172381 429.838737 72.754191 \nC 421.113058 78.336 413.293453 85.221342 406.652228 93.170443 \nC 400.011003 101.119544 394.626155 110.039048 390.685203 119.618347 \nC 386.744251 129.197646 384.293478 139.324238 383.41823 149.645479 \nC 382.542981 159.96672 383.253537 170.361394 385.525151 180.467523 \nC 387.796766 190.573652 391.602761 200.272546 396.810599 209.226456 \nC 402.018437 218.180365 408.566956 226.284133 416.228112 233.255558 \nC 423.889268 240.226982 432.573088 245.984189 441.977169 250.326691 \nC 451.38125 254.669193 461.39515 257.545992 471.670147 258.856907 \nC 481.945145 260.167822 492.360569 259.897457 502.553717 258.055227 \nL 484.509943 158.218125 \nL 585.964489 158.218125 \nz\n\" style=\"fill:#5f9ea0;\"/>\n   </g>\n   <g id=\"patch_11\">\n    <path d=\"M 502.553717 258.055227 \nC 517.117962 255.423 530.931355 249.635427 543.022122 241.099666 \nC 555.112888 232.563904 565.190689 221.484925 572.546548 208.642138 \nL 484.509943 158.218125 \nL 502.553717 258.055227 \nz\n\" style=\"fill:#b0e0e6;\"/>\n   </g>\n   <g id=\"patch_12\">\n    <path d=\"M 572.546548 208.642138 \nC 576.924047 200.999347 580.287719 192.818951 582.552636 184.307494 \nC 584.817553 175.796038 585.96449 167.025763 585.964489 158.218111 \nL 484.509943 158.218125 \nL 572.546548 208.642138 \nz\n\" style=\"fill:#add8e6;\"/>\n   </g>\n   <g id=\"matplotlib.axis_3\">\n    <g id=\"text_16\">\n     <!-- Fetal helth -->\n     <g transform=\"translate(458.066974 296.634744)scale(0.1 -0.1)\">\n      <use xlink:href=\"#DejaVuSans-70\"/>\n      <use x=\"52.019531\" xlink:href=\"#DejaVuSans-101\"/>\n      <use x=\"113.542969\" xlink:href=\"#DejaVuSans-116\"/>\n      <use x=\"152.751953\" xlink:href=\"#DejaVuSans-97\"/>\n      <use x=\"214.03125\" xlink:href=\"#DejaVuSans-108\"/>\n      <use x=\"241.814453\" xlink:href=\"#DejaVuSans-32\"/>\n      <use x=\"273.601562\" xlink:href=\"#DejaVuSans-104\"/>\n      <use x=\"336.980469\" xlink:href=\"#DejaVuSans-101\"/>\n      <use x=\"398.503906\" xlink:href=\"#DejaVuSans-108\"/>\n      <use x=\"426.287109\" xlink:href=\"#DejaVuSans-116\"/>\n      <use x=\"465.496094\" xlink:href=\"#DejaVuSans-104\"/>\n     </g>\n    </g>\n   </g>\n   <g id=\"matplotlib.axis_4\">\n    <g id=\"text_17\">\n     <!-- Cases -->\n     <g transform=\"translate(351.612074 173.059531)rotate(-90)scale(0.1 -0.1)\">\n      <use xlink:href=\"#DejaVuSans-67\"/>\n      <use x=\"69.824219\" xlink:href=\"#DejaVuSans-97\"/>\n      <use x=\"131.103516\" xlink:href=\"#DejaVuSans-115\"/>\n      <use x=\"183.203125\" xlink:href=\"#DejaVuSans-101\"/>\n      <use x=\"244.726562\" xlink:href=\"#DejaVuSans-115\"/>\n     </g>\n    </g>\n   </g>\n   <g id=\"text_18\">\n    <!-- Normal -->\n    <g transform=\"translate(362.683644 89.425049)scale(0.1 -0.1)\">\n     <defs>\n      <path d=\"M 9.8125 72.90625 \nL 23.09375 72.90625 \nL 55.421875 11.921875 \nL 55.421875 72.90625 \nL 64.984375 72.90625 \nL 64.984375 0 \nL 51.703125 0 \nL 19.390625 60.984375 \nL 19.390625 0 \nL 9.8125 0 \nz\n\" id=\"DejaVuSans-78\"/>\n      <path d=\"M 41.109375 46.296875 \nQ 39.59375 47.171875 37.8125 47.578125 \nQ 36.03125 48 33.890625 48 \nQ 26.265625 48 22.1875 43.046875 \nQ 18.109375 38.09375 18.109375 28.8125 \nL 18.109375 0 \nL 9.078125 0 \nL 9.078125 54.6875 \nL 18.109375 54.6875 \nL 18.109375 46.1875 \nQ 20.953125 51.171875 25.484375 53.578125 \nQ 30.03125 56 36.53125 56 \nQ 37.453125 56 38.578125 55.875 \nQ 39.703125 55.765625 41.0625 55.515625 \nz\n\" id=\"DejaVuSans-114\"/>\n      <path d=\"M 52 44.1875 \nQ 55.375 50.25 60.0625 53.125 \nQ 64.75 56 71.09375 56 \nQ 79.640625 56 84.28125 50.015625 \nQ 88.921875 44.046875 88.921875 33.015625 \nL 88.921875 0 \nL 79.890625 0 \nL 79.890625 32.71875 \nQ 79.890625 40.578125 77.09375 44.375 \nQ 74.3125 48.1875 68.609375 48.1875 \nQ 61.625 48.1875 57.5625 43.546875 \nQ 53.515625 38.921875 53.515625 30.90625 \nL 53.515625 0 \nL 44.484375 0 \nL 44.484375 32.71875 \nQ 44.484375 40.625 41.703125 44.40625 \nQ 38.921875 48.1875 33.109375 48.1875 \nQ 26.21875 48.1875 22.15625 43.53125 \nQ 18.109375 38.875 18.109375 30.90625 \nL 18.109375 0 \nL 9.078125 0 \nL 9.078125 54.6875 \nL 18.109375 54.6875 \nL 18.109375 46.1875 \nQ 21.1875 51.21875 25.484375 53.609375 \nQ 29.78125 56 35.6875 56 \nQ 41.65625 56 45.828125 52.96875 \nQ 50 49.953125 52 44.1875 \nz\n\" id=\"DejaVuSans-109\"/>\n     </defs>\n     <use xlink:href=\"#DejaVuSans-78\"/>\n     <use x=\"74.804688\" xlink:href=\"#DejaVuSans-111\"/>\n     <use x=\"135.986328\" xlink:href=\"#DejaVuSans-114\"/>\n     <use x=\"175.349609\" xlink:href=\"#DejaVuSans-109\"/>\n     <use x=\"272.761719\" xlink:href=\"#DejaVuSans-97\"/>\n     <use x=\"334.041016\" xlink:href=\"#DejaVuSans-108\"/>\n    </g>\n   </g>\n   <g id=\"text_19\">\n    <!-- 78% -->\n    <g transform=\"translate(426.682033 121.948891)scale(0.1 -0.1)\">\n     <defs>\n      <path d=\"M 8.203125 72.90625 \nL 55.078125 72.90625 \nL 55.078125 68.703125 \nL 28.609375 0 \nL 18.3125 0 \nL 43.21875 64.59375 \nL 8.203125 64.59375 \nz\n\" id=\"DejaVuSans-55\"/>\n      <path d=\"M 72.703125 32.078125 \nQ 68.453125 32.078125 66.03125 28.46875 \nQ 63.625 24.859375 63.625 18.40625 \nQ 63.625 12.0625 66.03125 8.421875 \nQ 68.453125 4.78125 72.703125 4.78125 \nQ 76.859375 4.78125 79.265625 8.421875 \nQ 81.6875 12.0625 81.6875 18.40625 \nQ 81.6875 24.8125 79.265625 28.4375 \nQ 76.859375 32.078125 72.703125 32.078125 \nz\nM 72.703125 38.28125 \nQ 80.421875 38.28125 84.953125 32.90625 \nQ 89.5 27.546875 89.5 18.40625 \nQ 89.5 9.28125 84.9375 3.921875 \nQ 80.375 -1.421875 72.703125 -1.421875 \nQ 64.890625 -1.421875 60.34375 3.921875 \nQ 55.8125 9.28125 55.8125 18.40625 \nQ 55.8125 27.59375 60.375 32.9375 \nQ 64.9375 38.28125 72.703125 38.28125 \nz\nM 22.3125 68.015625 \nQ 18.109375 68.015625 15.6875 64.375 \nQ 13.28125 60.75 13.28125 54.390625 \nQ 13.28125 47.953125 15.671875 44.328125 \nQ 18.0625 40.71875 22.3125 40.71875 \nQ 26.5625 40.71875 28.96875 44.328125 \nQ 31.390625 47.953125 31.390625 54.390625 \nQ 31.390625 60.6875 28.953125 64.34375 \nQ 26.515625 68.015625 22.3125 68.015625 \nz\nM 66.40625 74.21875 \nL 74.21875 74.21875 \nL 28.609375 -1.421875 \nL 20.796875 -1.421875 \nz\nM 22.3125 74.21875 \nQ 30.03125 74.21875 34.609375 68.875 \nQ 39.203125 63.53125 39.203125 54.390625 \nQ 39.203125 45.171875 34.640625 39.84375 \nQ 30.078125 34.515625 22.3125 34.515625 \nQ 14.546875 34.515625 10.03125 39.859375 \nQ 5.515625 45.21875 5.515625 54.390625 \nQ 5.515625 63.484375 10.046875 68.84375 \nQ 14.59375 74.21875 22.3125 74.21875 \nz\n\" id=\"DejaVuSans-37\"/>\n     </defs>\n     <use xlink:href=\"#DejaVuSans-55\"/>\n     <use x=\"63.623047\" xlink:href=\"#DejaVuSans-56\"/>\n     <use x=\"127.246094\" xlink:href=\"#DejaVuSans-37\"/>\n    </g>\n   </g>\n   <g id=\"text_20\">\n    <!-- Suspect -->\n    <g transform=\"translate(548.873339 252.147195)scale(0.1 -0.1)\">\n     <defs>\n      <path d=\"M 53.515625 70.515625 \nL 53.515625 60.890625 \nQ 47.90625 63.578125 42.921875 64.890625 \nQ 37.9375 66.21875 33.296875 66.21875 \nQ 25.25 66.21875 20.875 63.09375 \nQ 16.5 59.96875 16.5 54.203125 \nQ 16.5 49.359375 19.40625 46.890625 \nQ 22.3125 44.4375 30.421875 42.921875 \nL 36.375 41.703125 \nQ 47.40625 39.59375 52.65625 34.296875 \nQ 57.90625 29 57.90625 20.125 \nQ 57.90625 9.515625 50.796875 4.046875 \nQ 43.703125 -1.421875 29.984375 -1.421875 \nQ 24.8125 -1.421875 18.96875 -0.25 \nQ 13.140625 0.921875 6.890625 3.21875 \nL 6.890625 13.375 \nQ 12.890625 10.015625 18.65625 8.296875 \nQ 24.421875 6.59375 29.984375 6.59375 \nQ 38.421875 6.59375 43.015625 9.90625 \nQ 47.609375 13.234375 47.609375 19.390625 \nQ 47.609375 24.75 44.3125 27.78125 \nQ 41.015625 30.8125 33.5 32.328125 \nL 27.484375 33.5 \nQ 16.453125 35.6875 11.515625 40.375 \nQ 6.59375 45.0625 6.59375 53.421875 \nQ 6.59375 63.09375 13.40625 68.65625 \nQ 20.21875 74.21875 32.171875 74.21875 \nQ 37.3125 74.21875 42.625 73.28125 \nQ 47.953125 72.359375 53.515625 70.515625 \nz\n\" id=\"DejaVuSans-83\"/>\n      <path d=\"M 18.109375 8.203125 \nL 18.109375 -20.796875 \nL 9.078125 -20.796875 \nL 9.078125 54.6875 \nL 18.109375 54.6875 \nL 18.109375 46.390625 \nQ 20.953125 51.265625 25.265625 53.625 \nQ 29.59375 56 35.59375 56 \nQ 45.5625 56 51.78125 48.09375 \nQ 58.015625 40.1875 58.015625 27.296875 \nQ 58.015625 14.40625 51.78125 6.484375 \nQ 45.5625 -1.421875 35.59375 -1.421875 \nQ 29.59375 -1.421875 25.265625 0.953125 \nQ 20.953125 3.328125 18.109375 8.203125 \nz\nM 48.6875 27.296875 \nQ 48.6875 37.203125 44.609375 42.84375 \nQ 40.53125 48.484375 33.40625 48.484375 \nQ 26.265625 48.484375 22.1875 42.84375 \nQ 18.109375 37.203125 18.109375 27.296875 \nQ 18.109375 17.390625 22.1875 11.75 \nQ 26.265625 6.109375 33.40625 6.109375 \nQ 40.53125 6.109375 44.609375 11.75 \nQ 48.6875 17.390625 48.6875 27.296875 \nz\n\" id=\"DejaVuSans-112\"/>\n     </defs>\n     <use xlink:href=\"#DejaVuSans-83\"/>\n     <use x=\"63.476562\" xlink:href=\"#DejaVuSans-117\"/>\n     <use x=\"126.855469\" xlink:href=\"#DejaVuSans-115\"/>\n     <use x=\"178.955078\" xlink:href=\"#DejaVuSans-112\"/>\n     <use x=\"242.431641\" xlink:href=\"#DejaVuSans-101\"/>\n     <use x=\"303.955078\" xlink:href=\"#DejaVuSans-99\"/>\n     <use x=\"358.935547\" xlink:href=\"#DejaVuSans-116\"/>\n    </g>\n   </g>\n   <g id=\"text_21\">\n    <!-- 14% -->\n    <g transform=\"translate(508.503969 210.706424)scale(0.1 -0.1)\">\n     <use xlink:href=\"#DejaVuSans-49\"/>\n     <use x=\"63.623047\" xlink:href=\"#DejaVuSans-52\"/>\n     <use x=\"127.246094\" xlink:href=\"#DejaVuSans-37\"/>\n    </g>\n   </g>\n   <g id=\"text_22\">\n    <!-- Pathological -->\n    <g transform=\"translate(592.356905 189.675806)scale(0.1 -0.1)\">\n     <defs>\n      <path d=\"M 19.671875 64.796875 \nL 19.671875 37.40625 \nL 32.078125 37.40625 \nQ 38.96875 37.40625 42.71875 40.96875 \nQ 46.484375 44.53125 46.484375 51.125 \nQ 46.484375 57.671875 42.71875 61.234375 \nQ 38.96875 64.796875 32.078125 64.796875 \nz\nM 9.8125 72.90625 \nL 32.078125 72.90625 \nQ 44.34375 72.90625 50.609375 67.359375 \nQ 56.890625 61.8125 56.890625 51.125 \nQ 56.890625 40.328125 50.609375 34.8125 \nQ 44.34375 29.296875 32.078125 29.296875 \nL 19.671875 29.296875 \nL 19.671875 0 \nL 9.8125 0 \nz\n\" id=\"DejaVuSans-80\"/>\n      <path d=\"M 45.40625 27.984375 \nQ 45.40625 37.75 41.375 43.109375 \nQ 37.359375 48.484375 30.078125 48.484375 \nQ 22.859375 48.484375 18.828125 43.109375 \nQ 14.796875 37.75 14.796875 27.984375 \nQ 14.796875 18.265625 18.828125 12.890625 \nQ 22.859375 7.515625 30.078125 7.515625 \nQ 37.359375 7.515625 41.375 12.890625 \nQ 45.40625 18.265625 45.40625 27.984375 \nz\nM 54.390625 6.78125 \nQ 54.390625 -7.171875 48.1875 -13.984375 \nQ 42 -20.796875 29.203125 -20.796875 \nQ 24.46875 -20.796875 20.265625 -20.09375 \nQ 16.0625 -19.390625 12.109375 -17.921875 \nL 12.109375 -9.1875 \nQ 16.0625 -11.328125 19.921875 -12.34375 \nQ 23.78125 -13.375 27.78125 -13.375 \nQ 36.625 -13.375 41.015625 -8.765625 \nQ 45.40625 -4.15625 45.40625 5.171875 \nL 45.40625 9.625 \nQ 42.625 4.78125 38.28125 2.390625 \nQ 33.9375 0 27.875 0 \nQ 17.828125 0 11.671875 7.65625 \nQ 5.515625 15.328125 5.515625 27.984375 \nQ 5.515625 40.671875 11.671875 48.328125 \nQ 17.828125 56 27.875 56 \nQ 33.9375 56 38.28125 53.609375 \nQ 42.625 51.21875 45.40625 46.390625 \nL 45.40625 54.6875 \nL 54.390625 54.6875 \nz\n\" id=\"DejaVuSans-103\"/>\n      <path d=\"M 9.421875 54.6875 \nL 18.40625 54.6875 \nL 18.40625 0 \nL 9.421875 0 \nz\nM 9.421875 75.984375 \nL 18.40625 75.984375 \nL 18.40625 64.59375 \nL 9.421875 64.59375 \nz\n\" id=\"DejaVuSans-105\"/>\n     </defs>\n     <use xlink:href=\"#DejaVuSans-80\"/>\n     <use x=\"55.802734\" xlink:href=\"#DejaVuSans-97\"/>\n     <use x=\"117.082031\" xlink:href=\"#DejaVuSans-116\"/>\n     <use x=\"156.291016\" xlink:href=\"#DejaVuSans-104\"/>\n     <use x=\"219.669922\" xlink:href=\"#DejaVuSans-111\"/>\n     <use x=\"280.851562\" xlink:href=\"#DejaVuSans-108\"/>\n     <use x=\"308.634766\" xlink:href=\"#DejaVuSans-111\"/>\n     <use x=\"369.816406\" xlink:href=\"#DejaVuSans-103\"/>\n     <use x=\"433.292969\" xlink:href=\"#DejaVuSans-105\"/>\n     <use x=\"461.076172\" xlink:href=\"#DejaVuSans-99\"/>\n     <use x=\"516.056641\" xlink:href=\"#DejaVuSans-97\"/>\n     <use x=\"577.335938\" xlink:href=\"#DejaVuSans-108\"/>\n    </g>\n   </g>\n   <g id=\"text_23\">\n    <!-- 8% -->\n    <g transform=\"translate(535.403528 176.631122)scale(0.1 -0.1)\">\n     <use xlink:href=\"#DejaVuSans-56\"/>\n     <use x=\"63.623047\" xlink:href=\"#DejaVuSans-37\"/>\n    </g>\n   </g>\n   <g id=\"text_24\">\n    <!-- Fetal health count -->\n    <g transform=\"translate(430.267131 25.399943)scale(0.12 -0.12)\">\n     <use xlink:href=\"#DejaVuSans-70\"/>\n     <use x=\"52.019531\" xlink:href=\"#DejaVuSans-101\"/>\n     <use x=\"113.542969\" xlink:href=\"#DejaVuSans-116\"/>\n     <use x=\"152.751953\" xlink:href=\"#DejaVuSans-97\"/>\n     <use x=\"214.03125\" xlink:href=\"#DejaVuSans-108\"/>\n     <use x=\"241.814453\" xlink:href=\"#DejaVuSans-32\"/>\n     <use x=\"273.601562\" xlink:href=\"#DejaVuSans-104\"/>\n     <use x=\"336.980469\" xlink:href=\"#DejaVuSans-101\"/>\n     <use x=\"398.503906\" xlink:href=\"#DejaVuSans-97\"/>\n     <use x=\"459.783203\" xlink:href=\"#DejaVuSans-108\"/>\n     <use x=\"487.566406\" xlink:href=\"#DejaVuSans-116\"/>\n     <use x=\"526.775391\" xlink:href=\"#DejaVuSans-104\"/>\n     <use x=\"590.154297\" xlink:href=\"#DejaVuSans-32\"/>\n     <use x=\"621.941406\" xlink:href=\"#DejaVuSans-99\"/>\n     <use x=\"676.921875\" xlink:href=\"#DejaVuSans-111\"/>\n     <use x=\"738.103516\" xlink:href=\"#DejaVuSans-117\"/>\n     <use x=\"801.482422\" xlink:href=\"#DejaVuSans-110\"/>\n     <use x=\"864.861328\" xlink:href=\"#DejaVuSans-116\"/>\n    </g>\n   </g>\n  </g>\n </g>\n <defs>\n  <clipPath id=\"p915a5e0d4e\">\n   <rect height=\"271.8\" width=\"253.636364\" x=\"53.328125\" y=\"22.318125\"/>\n  </clipPath>\n </defs>\n</svg>\n",
      "image/png": "[encoded data removed]"
     },
     "metadata": {
      "needs_background": "light"
     }
    }
   ],
   "source": [
    "total = data[\"fetal_health\"].sum()\n",
    "# normal = total - 471\n",
    "# suspect = total - 1831\n",
    "# pathological = total - 1950\n",
    "normal = 1655\n",
    "suspect = 295\n",
    "pathological = 176\n",
    "print(data[\"fetal_health\"].value_counts())\n",
    "\n",
    "plt.figure(figsize = (10,5))\n",
    "plt.subplot(121)\n",
    "# sns.countplot(x=\"fetal_health\", data=data)\n",
    "vis_fetal_health = data.fetal_health.value_counts().plot(figsize=(10, 5), kind=\"bar\", color = [\"#5F9EA0\", \"#B0E0E6\", \"#ADD8E6\"])\n",
    "plt.title(\"Fetal health count\")\n",
    "plt.xlabel(\"Fetal helth\")\n",
    "plt.ylabel(\"Cases\")\n",
    "\n",
    "\n",
    "plt.subplot(122)\n",
    "# plt.pie([normal, suspect, pathological], labels=[\"Normal\", \"Suspect\", \"Pathological\"], autopct=\"%1.0f%%\")\n",
    "plt.title(\"Fetal state\") \n",
    "\n",
    "vis_pie_fetal_health = plt.pie([normal, suspect, pathological], labels=[\"Normal\", \"Suspect\", \"Pathological\"], colors = [\"#5F9EA0\", \"#B0E0E6\", \"#ADD8E6\"], autopct=\"%1.0f%%\")\n",
    "plt.title(\"Fetal health count\")\n",
    "plt.xlabel(\"Fetal helth\")\n",
    "plt.ylabel(\"Cases\")\n",
    "\n",
    "\n",
    "plt.show()"
   ]
  },
  {
   "source": [
    "## Correlation Numeric features"
   ],
   "cell_type": "markdown",
   "metadata": {}
  },
  {
   "source": [
    "numeric_data = data.select_dtypes(exclude=\"object\")\n",
    "numeric_corr = numeric_data.corr()\n",
    "\n",
    "Num_feature = numeric_corr[\"fetal_health\"].sort_values(ascending=False).head(20).to_frame()\n",
    "\n",
    "cm = sns.light_palette(\"Red\", as_cmap=True)\n",
    "\n",
    "style = Num_feature.style.background_gradient(cmap=cm)\n",
    "style"
   ],
   "cell_type": "code",
   "metadata": {},
   "execution_count": 10,
   "outputs": [
    {
     "output_type": "execute_result",
     "data": {
      "text/plain": [
       "<pandas.io.formats.style.Styler at 0x7fc00a7cab20>"
      ],
      "text/html": "<style  type=\"text/css\" >\n#T_0eb42aec_ad04_11eb_aa9a_54bf6443398erow0_col0{\n            background-color:  #ff0000;\n            color:  #f1f1f1;\n        }#T_0eb42aec_ad04_11eb_aa9a_54bf6443398erow1_col0{\n            background-color:  #fa6565;\n            color:  #000000;\n        }#T_0eb42aec_ad04_11eb_aa9a_54bf6443398erow2_col0{\n            background-color:  #fa6868;\n            color:  #000000;\n        }#T_0eb42aec_ad04_11eb_aa9a_54bf6443398erow3_col0{\n            background-color:  #f97070;\n            color:  #000000;\n        }#T_0eb42aec_ad04_11eb_aa9a_54bf6443398erow4_col0{\n            background-color:  #f79b9b;\n            color:  #000000;\n        }#T_0eb42aec_ad04_11eb_aa9a_54bf6443398erow5_col0{\n            background-color:  #f7a7a7;\n            color:  #000000;\n        }#T_0eb42aec_ad04_11eb_aa9a_54bf6443398erow6_col0{\n            background-color:  #f6aaaa;\n            color:  #000000;\n        }#T_0eb42aec_ad04_11eb_aa9a_54bf6443398erow7_col0{\n            background-color:  #f6b3b3;\n            color:  #000000;\n        }#T_0eb42aec_ad04_11eb_aa9a_54bf6443398erow8_col0{\n            background-color:  #f6b8b7;\n            color:  #000000;\n        }#T_0eb42aec_ad04_11eb_aa9a_54bf6443398erow9_col0{\n            background-color:  #f6b8b8;\n            color:  #000000;\n        }#T_0eb42aec_ad04_11eb_aa9a_54bf6443398erow10_col0{\n            background-color:  #f5c8c7;\n            color:  #000000;\n        }#T_0eb42aec_ad04_11eb_aa9a_54bf6443398erow11_col0{\n            background-color:  #f5c8c8;\n            color:  #000000;\n        }#T_0eb42aec_ad04_11eb_aa9a_54bf6443398erow12_col0{\n            background-color:  #f5cdcd;\n            color:  #000000;\n        }#T_0eb42aec_ad04_11eb_aa9a_54bf6443398erow13_col0{\n            background-color:  #f4d1d1;\n            color:  #000000;\n        }#T_0eb42aec_ad04_11eb_aa9a_54bf6443398erow14_col0{\n            background-color:  #f4d8d8;\n            color:  #000000;\n        }#T_0eb42aec_ad04_11eb_aa9a_54bf6443398erow15_col0{\n            background-color:  #f4dede;\n            color:  #000000;\n        }#T_0eb42aec_ad04_11eb_aa9a_54bf6443398erow16_col0,#T_0eb42aec_ad04_11eb_aa9a_54bf6443398erow17_col0{\n            background-color:  #f3ecec;\n            color:  #000000;\n        }#T_0eb42aec_ad04_11eb_aa9a_54bf6443398erow18_col0,#T_0eb42aec_ad04_11eb_aa9a_54bf6443398erow19_col0{\n            background-color:  #f3f0f0;\n            color:  #000000;\n        }</style><table id=\"T_0eb42aec_ad04_11eb_aa9a_54bf6443398e\" ><thead>    <tr>        <th class=\"blank level0\" ></th>        <th class=\"col_heading level0 col0\" >fetal_health</th>    </tr></thead><tbody>\n                <tr>\n                        <th id=\"T_0eb42aec_ad04_11eb_aa9a_54bf6443398elevel0_row0\" class=\"row_heading level0 row0\" >fetal_health</th>\n                        <td id=\"T_0eb42aec_ad04_11eb_aa9a_54bf6443398erow0_col0\" class=\"data row0 col0\" >1.000000</td>\n            </tr>\n            <tr>\n                        <th id=\"T_0eb42aec_ad04_11eb_aa9a_54bf6443398elevel0_row1\" class=\"row_heading level0 row1\" >prolongued_decelerations</th>\n                        <td id=\"T_0eb42aec_ad04_11eb_aa9a_54bf6443398erow1_col0\" class=\"data row1 col0\" >0.484859</td>\n            </tr>\n            <tr>\n                        <th id=\"T_0eb42aec_ad04_11eb_aa9a_54bf6443398elevel0_row2\" class=\"row_heading level0 row2\" >abnormal_short_term_variability</th>\n                        <td id=\"T_0eb42aec_ad04_11eb_aa9a_54bf6443398erow2_col0\" class=\"data row2 col0\" >0.471191</td>\n            </tr>\n            <tr>\n                        <th id=\"T_0eb42aec_ad04_11eb_aa9a_54bf6443398elevel0_row3\" class=\"row_heading level0 row3\" >percentage_of_time_with_abnormal_long_term_variability</th>\n                        <td id=\"T_0eb42aec_ad04_11eb_aa9a_54bf6443398erow3_col0\" class=\"data row3 col0\" >0.426146</td>\n            </tr>\n            <tr>\n                        <th id=\"T_0eb42aec_ad04_11eb_aa9a_54bf6443398elevel0_row4\" class=\"row_heading level0 row4\" >histogram_variance</th>\n                        <td id=\"T_0eb42aec_ad04_11eb_aa9a_54bf6443398erow4_col0\" class=\"data row4 col0\" >0.206630</td>\n            </tr>\n            <tr>\n                        <th id=\"T_0eb42aec_ad04_11eb_aa9a_54bf6443398elevel0_row5\" class=\"row_heading level0 row5\" >baseline value</th>\n                        <td id=\"T_0eb42aec_ad04_11eb_aa9a_54bf6443398erow5_col0\" class=\"data row5 col0\" >0.148151</td>\n            </tr>\n            <tr>\n                        <th id=\"T_0eb42aec_ad04_11eb_aa9a_54bf6443398elevel0_row6\" class=\"row_heading level0 row6\" >severe_decelerations</th>\n                        <td id=\"T_0eb42aec_ad04_11eb_aa9a_54bf6443398erow6_col0\" class=\"data row6 col0\" >0.131934</td>\n            </tr>\n            <tr>\n                        <th id=\"T_0eb42aec_ad04_11eb_aa9a_54bf6443398elevel0_row7\" class=\"row_heading level0 row7\" >fetal_movement</th>\n                        <td id=\"T_0eb42aec_ad04_11eb_aa9a_54bf6443398erow7_col0\" class=\"data row7 col0\" >0.088010</td>\n            </tr>\n            <tr>\n                        <th id=\"T_0eb42aec_ad04_11eb_aa9a_54bf6443398elevel0_row8\" class=\"row_heading level0 row8\" >histogram_min</th>\n                        <td id=\"T_0eb42aec_ad04_11eb_aa9a_54bf6443398erow8_col0\" class=\"data row8 col0\" >0.063175</td>\n            </tr>\n            <tr>\n                        <th id=\"T_0eb42aec_ad04_11eb_aa9a_54bf6443398elevel0_row9\" class=\"row_heading level0 row9\" >light_decelerations</th>\n                        <td id=\"T_0eb42aec_ad04_11eb_aa9a_54bf6443398erow9_col0\" class=\"data row9 col0\" >0.058870</td>\n            </tr>\n            <tr>\n                        <th id=\"T_0eb42aec_ad04_11eb_aa9a_54bf6443398elevel0_row10\" class=\"row_heading level0 row10\" >histogram_number_of_zeroes</th>\n                        <td id=\"T_0eb42aec_ad04_11eb_aa9a_54bf6443398erow10_col0\" class=\"data row10 col0\" >-0.016682</td>\n            </tr>\n            <tr>\n                        <th id=\"T_0eb42aec_ad04_11eb_aa9a_54bf6443398elevel0_row11\" class=\"row_heading level0 row11\" >histogram_number_of_peaks</th>\n                        <td id=\"T_0eb42aec_ad04_11eb_aa9a_54bf6443398erow11_col0\" class=\"data row11 col0\" >-0.023666</td>\n            </tr>\n            <tr>\n                        <th id=\"T_0eb42aec_ad04_11eb_aa9a_54bf6443398elevel0_row12\" class=\"row_heading level0 row12\" >histogram_max</th>\n                        <td id=\"T_0eb42aec_ad04_11eb_aa9a_54bf6443398erow12_col0\" class=\"data row12 col0\" >-0.045265</td>\n            </tr>\n            <tr>\n                        <th id=\"T_0eb42aec_ad04_11eb_aa9a_54bf6443398elevel0_row13\" class=\"row_heading level0 row13\" >histogram_width</th>\n                        <td id=\"T_0eb42aec_ad04_11eb_aa9a_54bf6443398erow13_col0\" class=\"data row13 col0\" >-0.068789</td>\n            </tr>\n            <tr>\n                        <th id=\"T_0eb42aec_ad04_11eb_aa9a_54bf6443398elevel0_row14\" class=\"row_heading level0 row14\" >mean_value_of_short_term_variability</th>\n                        <td id=\"T_0eb42aec_ad04_11eb_aa9a_54bf6443398erow14_col0\" class=\"data row14 col0\" >-0.103382</td>\n            </tr>\n            <tr>\n                        <th id=\"T_0eb42aec_ad04_11eb_aa9a_54bf6443398elevel0_row15\" class=\"row_heading level0 row15\" >histogram_tendency</th>\n                        <td id=\"T_0eb42aec_ad04_11eb_aa9a_54bf6443398erow15_col0\" class=\"data row15 col0\" >-0.131976</td>\n            </tr>\n            <tr>\n                        <th id=\"T_0eb42aec_ad04_11eb_aa9a_54bf6443398elevel0_row16\" class=\"row_heading level0 row16\" >uterine_contractions</th>\n                        <td id=\"T_0eb42aec_ad04_11eb_aa9a_54bf6443398erow16_col0\" class=\"data row16 col0\" >-0.204894</td>\n            </tr>\n            <tr>\n                        <th id=\"T_0eb42aec_ad04_11eb_aa9a_54bf6443398elevel0_row17\" class=\"row_heading level0 row17\" >histogram_median</th>\n                        <td id=\"T_0eb42aec_ad04_11eb_aa9a_54bf6443398erow17_col0\" class=\"data row17 col0\" >-0.205033</td>\n            </tr>\n            <tr>\n                        <th id=\"T_0eb42aec_ad04_11eb_aa9a_54bf6443398elevel0_row18\" class=\"row_heading level0 row18\" >mean_value_of_long_term_variability</th>\n                        <td id=\"T_0eb42aec_ad04_11eb_aa9a_54bf6443398erow18_col0\" class=\"data row18 col0\" >-0.226797</td>\n            </tr>\n            <tr>\n                        <th id=\"T_0eb42aec_ad04_11eb_aa9a_54bf6443398elevel0_row19\" class=\"row_heading level0 row19\" >histogram_mean</th>\n                        <td id=\"T_0eb42aec_ad04_11eb_aa9a_54bf6443398erow19_col0\" class=\"data row19 col0\" >-0.226985</td>\n            </tr>\n    </tbody></table>"
     },
     "metadata": {},
     "execution_count": 10
    }
   ]
  },
  {
   "source": [
    "<h1>Preprocessing Starts Here</h1>\n",
    "<h4>This section will deal with</h4>\n",
    "<ul>\n",
    "<li>Set up features(X) and target(Y)</li>\n",
    "<li>Scale the features</li>\n",
    "<li>Split training and test sets</li>\n",
    "<li>Model selection</li>\n",
    "<li>Hyperparameter tuning</li>\n",
    "</ul>"
   ],
   "cell_type": "markdown",
   "metadata": {}
  },
  {
   "cell_type": "code",
   "execution_count": 155,
   "metadata": {},
   "outputs": [],
   "source": [
    "#assigning values to features as X and target as y\n",
    "X=data.drop([\"fetal_health\"],axis=1)\n",
    "y=data[\"fetal_health\"]\n",
    "\n",
    "#Set up a standard scaler for the features\n",
    "col_names = list(X.columns)\n",
    "s_scaler = preprocessing.StandardScaler()\n",
    "X_df= s_scaler.fit_transform(X)\n",
    "X_df = pd.DataFrame(X_df, columns=col_names)   \n",
    "X_df.describe().T\n",
    "X_df.to_csv(\"ip.csv\")"
   ]
  },
  {
   "source": [
    "## Spliting test and training sets\n"
   ],
   "cell_type": "markdown",
   "metadata": {}
  },
  {
   "source": [
    "X_train, X_test, y_train,y_test = train_test_split(X_df,y,test_size=0.3,random_state=42)"
   ],
   "cell_type": "code",
   "metadata": {},
   "execution_count": 12,
   "outputs": []
  },
  {
   "cell_type": "code",
   "execution_count": 13,
   "metadata": {},
   "outputs": [],
   "source": [
    "# X_test"
   ]
  },
  {
   "source": [
    "<h1>Model Selection</h1>\n",
    "<h4>In this section we will select the model to use in our web application on the basis of accuracy</h4>"
   ],
   "cell_type": "markdown",
   "metadata": {}
  },
  {
   "cell_type": "code",
   "execution_count": 14,
   "metadata": {},
   "outputs": [
    {
     "output_type": "stream",
     "name": "stdout",
     "text": [
      "Logistic Regression: 0.897170 \n",
      "Decision Tree: 0.916021 \n",
      "RandomForest: 0.938863 \n"
     ]
    }
   ],
   "source": [
    "#A quick model selection process\n",
    "#pipelines of models( it is short was to fit and pred)\n",
    "pipeline_lr=Pipeline([('lr_classifier',LogisticRegression())])\n",
    "\n",
    "pipeline_dt=Pipeline([ ('dt_classifier',DecisionTreeClassifier())])\n",
    "\n",
    "pipeline_rf=Pipeline([('rf_classifier',RandomForestClassifier())])\n",
    "\n",
    "\n",
    "# List of all the pipelines\n",
    "pipelines = [pipeline_lr, pipeline_dt, pipeline_rf]\n",
    "\n",
    "# Dictionary of pipelines and classifier types for ease of reference\n",
    "pipe_dict = {0: 'Logistic Regression', 1: 'Decision Tree', 2: \"RandomForest\"}\n",
    "\n",
    "\n",
    "# Fit the pipelines\n",
    "for pipe in pipelines:\n",
    "    pipe.fit(X_train, y_train)\n",
    "\n",
    "#cross validation on accuracy \n",
    "cv_results_accuracy = []\n",
    "for i, model in enumerate(pipelines):\n",
    "    cv_score = cross_val_score(model, X_train,y_train, cv=10 )\n",
    "    cv_results_accuracy.append(cv_score)\n",
    "    print(\"%s: %f \" % (pipe_dict[i], cv_score.mean()))"
   ]
  },
  {
   "source": [
    "### As we can see in the results the Random Forest yeild the most accurate decision out of the three"
   ],
   "cell_type": "markdown",
   "metadata": {}
  },
  {
   "cell_type": "code",
   "execution_count": 15,
   "metadata": {},
   "outputs": [
    {
     "output_type": "stream",
     "name": "stdout",
     "text": [
      "0.9435736677115988\n"
     ]
    }
   ],
   "source": [
    "pred_rfc = pipeline_rf.predict(X_test)\n",
    "# print(pred_rfc)\n",
    "accuracy = accuracy_score(y_test, pred_rfc)\n",
    "print(accuracy)"
   ]
  },
  {
   "source": [
    "## Exporting to pickle "
   ],
   "cell_type": "markdown",
   "metadata": {}
  },
  {
   "cell_type": "code",
   "execution_count": 16,
   "metadata": {},
   "outputs": [],
   "source": [
    "import pickle"
   ]
  },
  {
   "cell_type": "code",
   "execution_count": 17,
   "metadata": {},
   "outputs": [],
   "source": [
    "randomForest = RandomForestClassifier()"
   ]
  },
  {
   "cell_type": "code",
   "execution_count": 18,
   "metadata": {},
   "outputs": [],
   "source": [
    "randomForest.fit(X_train,y_train)\n",
    "pickle.dump(randomForest, open('model.pkl','wb'))"
   ]
  },
  {
   "cell_type": "code",
   "execution_count": 118,
   "metadata": {},
   "outputs": [],
   "source": [
    "# X_test.to_csv(\"ip.csv\")\n"
   ]
  },
  {
   "cell_type": "code",
   "execution_count": 158,
   "metadata": {},
   "outputs": [
    {
     "output_type": "execute_result",
     "data": {
      "text/plain": [
       "array([2.])"
      ]
     },
     "metadata": {},
     "execution_count": 158
    }
   ],
   "source": [
    "pred  = [0.17239801714470865,-0.30488126420022366,0.11830030310440867,-1.4824645581771696,-0.6384375492921534,-0.05747560370484534,-0.2687543030278473,0.4078173013661887,-0.376865135444668,0.008337048633421083,1.5127932237568045,1.580476924660407,-0.9332132088083411,1.8937943880225332,2.011670603617903,-0.45844381526053474,0.766174708894617,0.5381335621421015,0.546884308468092,-0.2349981904549488,-0.5245255284858598]\n",
    "\n",
    "model.predict([pred])"
   ]
  },
  {
   "cell_type": "code",
   "execution_count": null,
   "metadata": {},
   "outputs": [],
   "source": []
  },
  {
   "cell_type": "code",
   "execution_count": null,
   "metadata": {},
   "outputs": [],
   "source": []
  }
 ]
}